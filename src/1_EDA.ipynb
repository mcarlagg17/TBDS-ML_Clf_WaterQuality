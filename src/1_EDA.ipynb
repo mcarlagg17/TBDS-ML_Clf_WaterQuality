{
 "cells": [
  {
   "cell_type": "markdown",
   "metadata": {},
   "source": [
    "# ***ANÁLISIS EXPLORATORIO DE DATOS (EDA)***\n",
    "\n",
    "## *ÍNDICE:* \n",
    "---\n",
    "0. INTRODUCCIÓN\n",
    "1. **ANÁLISIS EXPLORATORIO DE DATOS (EDA):**\n",
    "    - [1.1. Acondicionamiento bases de datos](#12)\n",
    "    - [1.2. Análisis visual](#13)\n",
    "    - [1.3. Análisis estadístico](#14)   \n",
    "2. MACHINE LEARNING\n",
    "    - 2.1. Preparación y limpieza de datos\n",
    "    - 2.2. Feature Engineering\n",
    "    - 2.3. Modelado\n",
    "3. CONCLUSIÓN\n",
    "    - 3.1. Visualización y reporting de los resultados\n",
    "    - 3.2. Creación de un pipeline para el flujo automatizado\n",
    "---"
   ]
  },
  {
   "cell_type": "code",
   "execution_count": 5,
   "metadata": {},
   "outputs": [
    {
     "ename": "ImportError",
     "evalue": "attempted relative import with no known parent package",
     "output_type": "error",
     "traceback": [
      "\u001b[0;31m---------------------------------------------------------------------------\u001b[0m",
      "\u001b[0;31mImportError\u001b[0m                               Traceback (most recent call last)",
      "\u001b[1;32m/Users/mcgg/Documents/TheBridge_DataScience_py_local/00_PROYECTOS/MachineLearning/src/notebook/1_EDA.ipynb Celda 1\u001b[0m in \u001b[0;36m<cell line: 2>\u001b[0;34m()\u001b[0m\n\u001b[1;32m      <a href='vscode-notebook-cell:/Users/mcgg/Documents/TheBridge_DataScience_py_local/00_PROYECTOS/MachineLearning/src/notebook/1_EDA.ipynb#W0sZmlsZQ%3D%3D?line=0'>1</a>\u001b[0m \u001b[39m# Librery\u001b[39;00m\n\u001b[0;32m----> <a href='vscode-notebook-cell:/Users/mcgg/Documents/TheBridge_DataScience_py_local/00_PROYECTOS/MachineLearning/src/notebook/1_EDA.ipynb#W0sZmlsZQ%3D%3D?line=1'>2</a>\u001b[0m \u001b[39mfrom\u001b[39;00m \u001b[39m.\u001b[39;00m\u001b[39m.\u001b[39;00m\u001b[39mutils\u001b[39;00m\u001b[39m.\u001b[39;00m\u001b[39mutils\u001b[39;00m\u001b[39m.\u001b[39;00m\u001b[39mlibreries\u001b[39;00m \u001b[39mimport\u001b[39;00m \u001b[39m*\u001b[39m\n",
      "\u001b[0;31mImportError\u001b[0m: attempted relative import with no known parent package"
     ]
    }
   ],
   "source": [
    "# Librery\n",
    "from ..utils.utils.libreries import *\n",
    "#%matplotlib inline\n"
   ]
  },
  {
   "cell_type": "code",
   "execution_count": 2,
   "metadata": {},
   "outputs": [
    {
     "ename": "NameError",
     "evalue": "name 'pd' is not defined",
     "output_type": "error",
     "traceback": [
      "\u001b[0;31m---------------------------------------------------------------------------\u001b[0m",
      "\u001b[0;31mNameError\u001b[0m                                 Traceback (most recent call last)",
      "\u001b[1;32m/Users/mcgg/Documents/TheBridge_DataScience_py_local/00_PROYECTOS/MachineLearning/src/notebook/1_EDA.ipynb Celda 2\u001b[0m in \u001b[0;36m<cell line: 3>\u001b[0;34m()\u001b[0m\n\u001b[1;32m      <a href='vscode-notebook-cell:/Users/mcgg/Documents/TheBridge_DataScience_py_local/00_PROYECTOS/MachineLearning/src/notebook/1_EDA.ipynb#X14sZmlsZQ%3D%3D?line=0'>1</a>\u001b[0m \u001b[39m# Read all csv \u001b[39;00m\n\u001b[1;32m      <a href='vscode-notebook-cell:/Users/mcgg/Documents/TheBridge_DataScience_py_local/00_PROYECTOS/MachineLearning/src/notebook/1_EDA.ipynb#X14sZmlsZQ%3D%3D?line=1'>2</a>\u001b[0m preroot\u001b[39m=\u001b[39mos\u001b[39m.\u001b[39mgetcwd()\n\u001b[0;32m----> <a href='vscode-notebook-cell:/Users/mcgg/Documents/TheBridge_DataScience_py_local/00_PROYECTOS/MachineLearning/src/notebook/1_EDA.ipynb#X14sZmlsZQ%3D%3D?line=2'>3</a>\u001b[0m df\u001b[39m=\u001b[39mpd\u001b[39m.\u001b[39mread_csv(preroot\u001b[39m+\u001b[39m\u001b[39m'\u001b[39m\u001b[39m/data/raw/waterQuality.csv\u001b[39m\u001b[39m'\u001b[39m)\n\u001b[1;32m      <a href='vscode-notebook-cell:/Users/mcgg/Documents/TheBridge_DataScience_py_local/00_PROYECTOS/MachineLearning/src/notebook/1_EDA.ipynb#X14sZmlsZQ%3D%3D?line=3'>4</a>\u001b[0m df\u001b[39m.\u001b[39mhead()\n\u001b[1;32m      <a href='vscode-notebook-cell:/Users/mcgg/Documents/TheBridge_DataScience_py_local/00_PROYECTOS/MachineLearning/src/notebook/1_EDA.ipynb#X14sZmlsZQ%3D%3D?line=4'>5</a>\u001b[0m df\u001b[39m.\u001b[39minfo()\n",
      "\u001b[0;31mNameError\u001b[0m: name 'pd' is not defined"
     ]
    }
   ],
   "source": [
    "# Read all csv \n",
    "preroot=os.getcwd()\n",
    "df=pd.read_csv(preroot+'/data/raw/waterQuality.csv')\n",
    "df.head()\n",
    "df.info()"
   ]
  },
  {
   "cell_type": "code",
   "execution_count": null,
   "metadata": {},
   "outputs": [],
   "source": [
    "# Transform all object columns to numeric:\n",
    "df.ammonia=[float(i) if (i!='#NUM!') else np.nan for i in df.ammonia]\n",
    "df.is_safe=[int(i) if (i!='#NUM!') else np.nan for i in df.is_safe]\n",
    "df.isna().sum()*100/len(df)\n",
    "df.dropna().isna().sum()*100/len(df.dropna())\n",
    "df.dropna(inplace=True)\n",
    "df.info()"
   ]
  },
  {
   "cell_type": "code",
   "execution_count": null,
   "metadata": {},
   "outputs": [],
   "source": [
    "plt.style.use('ggplot')\n",
    "sns.set(rc={'figure.figsize':(15, 15)})\n",
    "#for i in df.columns:\n",
    "sns.boxplot(data=df,orient='h',palette='Blues');\n",
    "\n",
    "#plt.show()"
   ]
  },
  {
   "cell_type": "code",
   "execution_count": null,
   "metadata": {},
   "outputs": [],
   "source": [
    "sns.set(rc={'figure.figsize':(15, 5)})\n",
    "for i in df.columns:\n",
    "    sns.boxplot(data=df,x=df[i],orient='h',palette='Blues');\n",
    "\n",
    "    plt.show()"
   ]
  },
  {
   "cell_type": "code",
   "execution_count": null,
   "metadata": {},
   "outputs": [],
   "source": [
    "sns.set(rc={'figure.figsize':(15, 8)})\n",
    "colors = sns.color_palette(\"Blues\")\n",
    "\n",
    "labels = df.is_safe.value_counts().index\n",
    "sizes = df.is_safe.value_counts()\n",
    "explode = (0, 0.1)  \n",
    "\n",
    "fig1, ax1 = plt.subplots()\n",
    "ax1.pie(sizes, explode=explode, labels=labels,colors=colors, autopct='%1.1f%%',\n",
    "        shadow=True, startangle=90)\n",
    "ax1.axis('equal') \n",
    "plt.show()\n",
    "\n",
    "sns.set(rc={'figure.figsize':(15, 8)})\n",
    "sns.countplot(x='is_safe',data=df,palette=\"coolwarm\")"
   ]
  },
  {
   "cell_type": "markdown",
   "metadata": {},
   "source": [
    "##  **1.3. Análisis visual**<a id='13'></a>"
   ]
  },
  {
   "cell_type": "code",
   "execution_count": null,
   "metadata": {},
   "outputs": [],
   "source": [
    "fig = plt.figure(figsize=(24, 24))\n",
    "sns.pairplot(df,diag_kind='kde',palette='coolwarm')\n",
    "correlations = df.corr(method='pearson')\n",
    "fig = plt.figure(figsize=(24, 24))\n",
    "sns.heatmap(correlations, annot=True, fmt='.2f')\n",
    "plt.title('Matriz de correlacion')\n",
    "plt.show()\n"
   ]
  },
  {
   "cell_type": "code",
   "execution_count": null,
   "metadata": {},
   "outputs": [],
   "source": [
    "# Graphics: correlation\n",
    "phik_matrix = df.phik_matrix()\n",
    "\n",
    "plt.figure(figsize=(15,15))\n",
    "sns.heatmap(phik_matrix,\n",
    "            vmin=0,\n",
    "            vmax=1,\n",
    "            center=0,\n",
    "            cmap=sns.diverging_palette(145, 280, s=85, l=25, n=10),\n",
    "            square=True,\n",
    "            annot=True,\n",
    "            linewidths=.5);"
   ]
  },
  {
   "cell_type": "markdown",
   "metadata": {},
   "source": [
    "***OBSERVACIONES:***\n",
    "\n",
    "---\n",
    "~~~\n",
    "1. Se observa las variables con mayor correlación con respecto a la variable objetivo, o variable dependiente:\n",
    "    - Aluminium\n",
    "    - Cadmium\n",
    "    - Chloromine\n",
    "    - Chromium\n",
    "    - Perchlorate\n",
    "\n",
    "    \n",
    "2. Se observan la correlación de algunas variables independientes con otras, pudiendo ser alguna de ellas eliminada para evitar la multicolinealidad. Ej. Chromium y Chloromine: fuerte correlación entre ellas, siendo una prescindible.\n",
    "\n",
    "~~~\n",
    "---\n"
   ]
  },
  {
   "cell_type": "markdown",
   "metadata": {},
   "source": [
    "##  **1.4. Análisis estadístico**<a id='14'></a>"
   ]
  }
 ],
 "metadata": {
  "kernelspec": {
   "display_name": "Python 3.9.12 ('the_bridge_ds')",
   "language": "python",
   "name": "python3"
  },
  "language_info": {
   "codemirror_mode": {
    "name": "ipython",
    "version": 3
   },
   "file_extension": ".py",
   "mimetype": "text/x-python",
   "name": "python",
   "nbconvert_exporter": "python",
   "pygments_lexer": "ipython3",
   "version": "3.9.12"
  },
  "orig_nbformat": 4,
  "vscode": {
   "interpreter": {
    "hash": "b2ad160f8c76d2a8caa3f2cdf61cc6d370c158f390a227c2374ae319d2175eaf"
   }
  }
 },
 "nbformat": 4,
 "nbformat_minor": 2
}
