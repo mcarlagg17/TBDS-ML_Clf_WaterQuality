{
 "cells": [
  {
   "cell_type": "markdown",
   "metadata": {},
   "source": [
    "# ***MACHINE LEARNING***\n",
    "\n",
    "## *ÍNDICE:* \n",
    "---\n",
    "0. INTRODUCCIÓN\n",
    "1. ANÁLISIS EXPLORATORIO DE DATOS (EDA)\n",
    "    - 1.1. Acondicionamiento bases de datos\n",
    "    - 1.2. Análisis visual\n",
    "    - 1.3. Análisis estadístico  \n",
    "2. **MACHINE LEARNING**\n",
    "    - [2.1. Preparación y limpieza de datos](#21)\n",
    "    - [2.2. Feature Engineering](#22)\n",
    "    - [2.3. Modelado](#23)\n",
    "3. RESULTADOS\n",
    "    - 3.1. Visualización y reporting de los resultados\n",
    "    - 3.2. Creación de un pipeline para el flujo automatizado\n",
    "---"
   ]
  },
  {
   "cell_type": "markdown",
   "metadata": {},
   "source": [
    "##  **2.1. Preparación y limpieza de datos**<a id='21'></a>"
   ]
  },
  {
   "cell_type": "code",
   "execution_count": 3,
   "metadata": {},
   "outputs": [
    {
     "data": {
      "text/html": [
       "<div>\n",
       "<style scoped>\n",
       "    .dataframe tbody tr th:only-of-type {\n",
       "        vertical-align: middle;\n",
       "    }\n",
       "\n",
       "    .dataframe tbody tr th {\n",
       "        vertical-align: top;\n",
       "    }\n",
       "\n",
       "    .dataframe thead th {\n",
       "        text-align: right;\n",
       "    }\n",
       "</style>\n",
       "<table border=\"1\" class=\"dataframe\">\n",
       "  <thead>\n",
       "    <tr style=\"text-align: right;\">\n",
       "      <th></th>\n",
       "      <th>aluminium</th>\n",
       "      <th>ammonia</th>\n",
       "      <th>arsenic</th>\n",
       "      <th>barium</th>\n",
       "      <th>cadmium</th>\n",
       "      <th>chloramine</th>\n",
       "      <th>chromium</th>\n",
       "      <th>copper</th>\n",
       "      <th>flouride</th>\n",
       "      <th>bacteria</th>\n",
       "      <th>...</th>\n",
       "      <th>lead</th>\n",
       "      <th>nitrates</th>\n",
       "      <th>nitrites</th>\n",
       "      <th>mercury</th>\n",
       "      <th>perchlorate</th>\n",
       "      <th>radium</th>\n",
       "      <th>selenium</th>\n",
       "      <th>silver</th>\n",
       "      <th>uranium</th>\n",
       "      <th>is_safe</th>\n",
       "    </tr>\n",
       "  </thead>\n",
       "  <tbody>\n",
       "    <tr>\n",
       "      <th>0</th>\n",
       "      <td>1.65</td>\n",
       "      <td>9.08</td>\n",
       "      <td>0.04</td>\n",
       "      <td>2.85</td>\n",
       "      <td>0.007</td>\n",
       "      <td>0.35</td>\n",
       "      <td>0.83</td>\n",
       "      <td>0.17</td>\n",
       "      <td>0.05</td>\n",
       "      <td>0.20</td>\n",
       "      <td>...</td>\n",
       "      <td>0.054</td>\n",
       "      <td>16.08</td>\n",
       "      <td>1.13</td>\n",
       "      <td>0.007</td>\n",
       "      <td>37.75</td>\n",
       "      <td>6.78</td>\n",
       "      <td>0.08</td>\n",
       "      <td>0.34</td>\n",
       "      <td>0.02</td>\n",
       "      <td>1</td>\n",
       "    </tr>\n",
       "    <tr>\n",
       "      <th>1</th>\n",
       "      <td>2.32</td>\n",
       "      <td>21.16</td>\n",
       "      <td>0.01</td>\n",
       "      <td>3.31</td>\n",
       "      <td>0.002</td>\n",
       "      <td>5.28</td>\n",
       "      <td>0.68</td>\n",
       "      <td>0.66</td>\n",
       "      <td>0.90</td>\n",
       "      <td>0.65</td>\n",
       "      <td>...</td>\n",
       "      <td>0.100</td>\n",
       "      <td>2.01</td>\n",
       "      <td>1.93</td>\n",
       "      <td>0.003</td>\n",
       "      <td>32.26</td>\n",
       "      <td>3.21</td>\n",
       "      <td>0.08</td>\n",
       "      <td>0.27</td>\n",
       "      <td>0.05</td>\n",
       "      <td>1</td>\n",
       "    </tr>\n",
       "    <tr>\n",
       "      <th>2</th>\n",
       "      <td>1.01</td>\n",
       "      <td>14.02</td>\n",
       "      <td>0.04</td>\n",
       "      <td>0.58</td>\n",
       "      <td>0.008</td>\n",
       "      <td>4.24</td>\n",
       "      <td>0.53</td>\n",
       "      <td>0.02</td>\n",
       "      <td>0.99</td>\n",
       "      <td>0.05</td>\n",
       "      <td>...</td>\n",
       "      <td>0.078</td>\n",
       "      <td>14.16</td>\n",
       "      <td>1.11</td>\n",
       "      <td>0.006</td>\n",
       "      <td>50.28</td>\n",
       "      <td>7.07</td>\n",
       "      <td>0.07</td>\n",
       "      <td>0.44</td>\n",
       "      <td>0.01</td>\n",
       "      <td>0</td>\n",
       "    </tr>\n",
       "    <tr>\n",
       "      <th>3</th>\n",
       "      <td>1.36</td>\n",
       "      <td>11.33</td>\n",
       "      <td>0.04</td>\n",
       "      <td>2.96</td>\n",
       "      <td>0.001</td>\n",
       "      <td>7.23</td>\n",
       "      <td>0.03</td>\n",
       "      <td>1.66</td>\n",
       "      <td>1.08</td>\n",
       "      <td>0.71</td>\n",
       "      <td>...</td>\n",
       "      <td>0.016</td>\n",
       "      <td>1.41</td>\n",
       "      <td>1.29</td>\n",
       "      <td>0.004</td>\n",
       "      <td>9.12</td>\n",
       "      <td>1.72</td>\n",
       "      <td>0.02</td>\n",
       "      <td>0.45</td>\n",
       "      <td>0.05</td>\n",
       "      <td>1</td>\n",
       "    </tr>\n",
       "    <tr>\n",
       "      <th>4</th>\n",
       "      <td>0.92</td>\n",
       "      <td>24.33</td>\n",
       "      <td>0.03</td>\n",
       "      <td>0.20</td>\n",
       "      <td>0.006</td>\n",
       "      <td>2.67</td>\n",
       "      <td>0.69</td>\n",
       "      <td>0.57</td>\n",
       "      <td>0.61</td>\n",
       "      <td>0.13</td>\n",
       "      <td>...</td>\n",
       "      <td>0.117</td>\n",
       "      <td>6.74</td>\n",
       "      <td>1.11</td>\n",
       "      <td>0.003</td>\n",
       "      <td>16.90</td>\n",
       "      <td>2.41</td>\n",
       "      <td>0.02</td>\n",
       "      <td>0.06</td>\n",
       "      <td>0.02</td>\n",
       "      <td>1</td>\n",
       "    </tr>\n",
       "  </tbody>\n",
       "</table>\n",
       "<p>5 rows × 21 columns</p>\n",
       "</div>"
      ],
      "text/plain": [
       "   aluminium ammonia  arsenic  barium  cadmium  chloramine  chromium  copper  \\\n",
       "0       1.65    9.08     0.04    2.85    0.007        0.35      0.83    0.17   \n",
       "1       2.32   21.16     0.01    3.31    0.002        5.28      0.68    0.66   \n",
       "2       1.01   14.02     0.04    0.58    0.008        4.24      0.53    0.02   \n",
       "3       1.36   11.33     0.04    2.96    0.001        7.23      0.03    1.66   \n",
       "4       0.92   24.33     0.03    0.20    0.006        2.67      0.69    0.57   \n",
       "\n",
       "   flouride  bacteria  ...   lead  nitrates  nitrites  mercury  perchlorate  \\\n",
       "0      0.05      0.20  ...  0.054     16.08      1.13    0.007        37.75   \n",
       "1      0.90      0.65  ...  0.100      2.01      1.93    0.003        32.26   \n",
       "2      0.99      0.05  ...  0.078     14.16      1.11    0.006        50.28   \n",
       "3      1.08      0.71  ...  0.016      1.41      1.29    0.004         9.12   \n",
       "4      0.61      0.13  ...  0.117      6.74      1.11    0.003        16.90   \n",
       "\n",
       "   radium  selenium  silver  uranium  is_safe  \n",
       "0    6.78      0.08    0.34     0.02        1  \n",
       "1    3.21      0.08    0.27     0.05        1  \n",
       "2    7.07      0.07    0.44     0.01        0  \n",
       "3    1.72      0.02    0.45     0.05        1  \n",
       "4    2.41      0.02    0.06     0.02        1  \n",
       "\n",
       "[5 rows x 21 columns]"
      ]
     },
     "execution_count": 3,
     "metadata": {},
     "output_type": "execute_result"
    }
   ],
   "source": [
    "# Librery\n",
    "from utils.libreries import *\n",
    "\n",
    "%matplotlib inline \n",
    "import warnings\n",
    "\n",
    "warnings.filterwarnings(\"ignore\")\n",
    "\n",
    "# Read all csv \n",
    "\n",
    "preroot=os.getcwd()\n",
    "df=pd.read_csv(preroot+'/data/raw/waterQuality.csv')\n",
    "df.head()"
   ]
  },
  {
   "cell_type": "code",
   "execution_count": 4,
   "metadata": {},
   "outputs": [
    {
     "name": "stdout",
     "output_type": "stream",
     "text": [
      "<class 'pandas.core.frame.DataFrame'>\n",
      "RangeIndex: 7999 entries, 0 to 7998\n",
      "Data columns (total 21 columns):\n",
      " #   Column       Non-Null Count  Dtype  \n",
      "---  ------       --------------  -----  \n",
      " 0   aluminium    7999 non-null   float64\n",
      " 1   ammonia      7999 non-null   object \n",
      " 2   arsenic      7999 non-null   float64\n",
      " 3   barium       7999 non-null   float64\n",
      " 4   cadmium      7999 non-null   float64\n",
      " 5   chloramine   7999 non-null   float64\n",
      " 6   chromium     7999 non-null   float64\n",
      " 7   copper       7999 non-null   float64\n",
      " 8   flouride     7999 non-null   float64\n",
      " 9   bacteria     7999 non-null   float64\n",
      " 10  viruses      7999 non-null   float64\n",
      " 11  lead         7999 non-null   float64\n",
      " 12  nitrates     7999 non-null   float64\n",
      " 13  nitrites     7999 non-null   float64\n",
      " 14  mercury      7999 non-null   float64\n",
      " 15  perchlorate  7999 non-null   float64\n",
      " 16  radium       7999 non-null   float64\n",
      " 17  selenium     7999 non-null   float64\n",
      " 18  silver       7999 non-null   float64\n",
      " 19  uranium      7999 non-null   float64\n",
      " 20  is_safe      7999 non-null   object \n",
      "dtypes: float64(19), object(2)\n",
      "memory usage: 1.3+ MB\n"
     ]
    }
   ],
   "source": [
    "df.info()"
   ]
  },
  {
   "cell_type": "code",
   "execution_count": 5,
   "metadata": {},
   "outputs": [],
   "source": [
    "# Transform all object columns to numeric:\n",
    "df.ammonia=[float(i) if (i!='#NUM!') else np.nan for i in df.ammonia]\n",
    "df.is_safe=[int(i) if (i!='#NUM!') else np.nan for i in df.is_safe]"
   ]
  },
  {
   "cell_type": "code",
   "execution_count": 6,
   "metadata": {},
   "outputs": [
    {
     "data": {
      "text/plain": [
       "aluminium      0.000000\n",
       "ammonia        0.037505\n",
       "arsenic        0.000000\n",
       "barium         0.000000\n",
       "cadmium        0.000000\n",
       "chloramine     0.000000\n",
       "chromium       0.000000\n",
       "copper         0.000000\n",
       "flouride       0.000000\n",
       "bacteria       0.000000\n",
       "viruses        0.000000\n",
       "lead           0.000000\n",
       "nitrates       0.000000\n",
       "nitrites       0.000000\n",
       "mercury        0.000000\n",
       "perchlorate    0.000000\n",
       "radium         0.000000\n",
       "selenium       0.000000\n",
       "silver         0.000000\n",
       "uranium        0.000000\n",
       "is_safe        0.037505\n",
       "dtype: float64"
      ]
     },
     "execution_count": 6,
     "metadata": {},
     "output_type": "execute_result"
    }
   ],
   "source": [
    "df.isna().sum()*100/len(df)"
   ]
  },
  {
   "cell_type": "code",
   "execution_count": 7,
   "metadata": {},
   "outputs": [
    {
     "name": "stdout",
     "output_type": "stream",
     "text": [
      "<class 'pandas.core.frame.DataFrame'>\n",
      "Int64Index: 7996 entries, 0 to 7998\n",
      "Data columns (total 21 columns):\n",
      " #   Column       Non-Null Count  Dtype  \n",
      "---  ------       --------------  -----  \n",
      " 0   aluminium    7996 non-null   float64\n",
      " 1   ammonia      7996 non-null   float64\n",
      " 2   arsenic      7996 non-null   float64\n",
      " 3   barium       7996 non-null   float64\n",
      " 4   cadmium      7996 non-null   float64\n",
      " 5   chloramine   7996 non-null   float64\n",
      " 6   chromium     7996 non-null   float64\n",
      " 7   copper       7996 non-null   float64\n",
      " 8   flouride     7996 non-null   float64\n",
      " 9   bacteria     7996 non-null   float64\n",
      " 10  viruses      7996 non-null   float64\n",
      " 11  lead         7996 non-null   float64\n",
      " 12  nitrates     7996 non-null   float64\n",
      " 13  nitrites     7996 non-null   float64\n",
      " 14  mercury      7996 non-null   float64\n",
      " 15  perchlorate  7996 non-null   float64\n",
      " 16  radium       7996 non-null   float64\n",
      " 17  selenium     7996 non-null   float64\n",
      " 18  silver       7996 non-null   float64\n",
      " 19  uranium      7996 non-null   float64\n",
      " 20  is_safe      7996 non-null   float64\n",
      "dtypes: float64(21)\n",
      "memory usage: 1.3 MB\n"
     ]
    }
   ],
   "source": [
    "df.dropna(inplace=True)\n",
    "df.info()"
   ]
  },
  {
   "cell_type": "markdown",
   "metadata": {},
   "source": [
    "##  **2.2. Feature Engineering**<a id='22'></a>"
   ]
  },
  {
   "cell_type": "code",
   "execution_count": 63,
   "metadata": {},
   "outputs": [
    {
     "data": {
      "image/png": "[encoded data removed]",
      "text/plain": [
       "<Figure size 1080x576 with 1 Axes>"
      ]
     },
     "metadata": {},
     "output_type": "display_data"
    }
   ],
   "source": [
    "sns.set(rc={'figure.figsize':(15, 8)})\n",
    "colors = sns.color_palette(\"Blues\")\n",
    "\n",
    "labels = df.is_safe.value_counts().index\n",
    "sizes = df.is_safe.value_counts()\n",
    "explode = (0, 0.1)  \n",
    "\n",
    "fig1, ax1 = plt.subplots()\n",
    "ax1.pie(sizes, explode=explode, labels=labels,colors=colors, autopct='%1.1f%%',\n",
    "        shadow=True, startangle=90)\n",
    "ax1.axis('equal') \n",
    "plt.show()"
   ]
  },
  {
   "cell_type": "code",
   "execution_count": 64,
   "metadata": {},
   "outputs": [
    {
     "data": {
      "text/plain": [
       "<AxesSubplot:xlabel='is_safe', ylabel='count'>"
      ]
     },
     "execution_count": 64,
     "metadata": {},
     "output_type": "execute_result"
    },
    {
     "data": {
      "image/png": "[encoded data removed]",
      "text/plain": [
       "<Figure size 1080x576 with 1 Axes>"
      ]
     },
     "metadata": {},
     "output_type": "display_data"
    }
   ],
   "source": [
    "sns.set(rc={'figure.figsize':(15, 8)})\n",
    "sns.countplot(x='is_safe',data=df,palette=\"coolwarm\")"
   ]
  },
  {
   "cell_type": "markdown",
   "metadata": {},
   "source": [
    "**Observaciones:**\n",
    "\n",
    "- Dataset desbalanceado\n",
    "\n",
    "**Propuestas:**\n",
    "\n",
    "Al tener un dataset desbalanceado se buscan una serie de opciones, en este caso, suponiendo que no se puedan obtener más datos que equilibren nuestro dataset se plantean las siguientes opciones.\n",
    "- Opciones para *balancear la data*:\n",
    "\n",
    "    - Oversampling.\n",
    "    - Undersampling.\n",
    "    - Métodos mixtos.\n",
    "\n",
    "Se puede apreciar visualmente a continuación: \n",
    "\n",
    "<img src=\"https://miro.medium.com/max/1400/1*o_KfyMzF7LITK2DlYm_wHw.png\" alt=\"drawing\" width=\"450x500\"/>\n",
    "<img src=\"https://miro.medium.com/max/1400/1*gHW_PLz7kWrhdl5t1sJRRA.png\" alt=\"drawing\" width=\"450x500\"/>\n",
    "  "
   ]
  },
  {
   "cell_type": "markdown",
   "metadata": {},
   "source": [
    "En este notebook se pretende tratar los datos para mejorar los modelos que se han comprobado mejores en el notebook anterior `2a_ML_Baseline.ipynb`. \n",
    "\n",
    "Se crean dos dataset procesados:\n",
    "1. Se seleccionan las variables indepedientes más influyentes mediante los métodos no supervisado de **PCA** y **RFE**.\n",
    "2. Se balancean las variables utilizando el método de resampling: \n",
    "\n",
    "    2.1. Oversampling : **SMOTE**\n",
    "\n",
    "    2.2. Combinación de under y oversampling: **SMOTEENN**\n",
    "    \n",
    "    2.3. Selección del método que se considere mejor."
   ]
  },
  {
   "cell_type": "code",
   "execution_count": 65,
   "metadata": {},
   "outputs": [],
   "source": [
    "data = df.copy()\n",
    "target = 'is_safe'\n",
    "X = data.drop([target], axis=1)\n",
    "\n",
    "y = data[target].copy()\n",
    "\n",
    "X_train, X_test, y_train, y_test = train_test_split(X, y, test_size = 0.2, random_state = 77)"
   ]
  },
  {
   "cell_type": "markdown",
   "metadata": {},
   "source": [
    "***Features selection:***\n",
    "\n",
    "---"
   ]
  },
  {
   "cell_type": "code",
   "execution_count": 66,
   "metadata": {},
   "outputs": [],
   "source": [
    "selector = RFE(DecisionTreeClassifier(), n_features_to_select=7, step=1)\n",
    "selector = selector.fit(X, y)\n"
   ]
  },
  {
   "cell_type": "code",
   "execution_count": 67,
   "metadata": {},
   "outputs": [
    {
     "data": {
      "text/plain": [
       "array([ True,  True, False, False,  True, False, False, False, False,\n",
       "       False, False, False,  True, False, False,  True,  True, False,\n",
       "       False,  True])"
      ]
     },
     "execution_count": 67,
     "metadata": {},
     "output_type": "execute_result"
    }
   ],
   "source": [
    "selector.support_"
   ]
  },
  {
   "cell_type": "code",
   "execution_count": 68,
   "metadata": {},
   "outputs": [
    {
     "data": {
      "text/plain": [
       "array([ 1,  1, 14,  3,  1,  8, 10,  9, 13,  6, 12,  5,  1,  7, 11,  1,  1,\n",
       "        4,  2,  1])"
      ]
     },
     "execution_count": 68,
     "metadata": {},
     "output_type": "execute_result"
    }
   ],
   "source": [
    "selector.ranking_"
   ]
  },
  {
   "cell_type": "code",
   "execution_count": 69,
   "metadata": {},
   "outputs": [
    {
     "data": {
      "text/plain": [
       "array(['aluminium', 'ammonia', 'arsenic', 'barium', 'cadmium',\n",
       "       'chloramine', 'chromium', 'copper', 'flouride', 'bacteria',\n",
       "       'viruses', 'lead', 'nitrates', 'nitrites', 'mercury',\n",
       "       'perchlorate', 'radium', 'selenium', 'silver', 'uranium'],\n",
       "      dtype=object)"
      ]
     },
     "execution_count": 69,
     "metadata": {},
     "output_type": "execute_result"
    }
   ],
   "source": [
    "selector.feature_names_in_"
   ]
  },
  {
   "cell_type": "code",
   "execution_count": 70,
   "metadata": {},
   "outputs": [
    {
     "data": {
      "text/plain": [
       "7"
      ]
     },
     "execution_count": 70,
     "metadata": {},
     "output_type": "execute_result"
    }
   ],
   "source": [
    "selector.n_features_to_select"
   ]
  },
  {
   "cell_type": "code",
   "execution_count": 78,
   "metadata": {},
   "outputs": [
    {
     "data": {
      "text/html": [
       "<div>\n",
       "<style scoped>\n",
       "    .dataframe tbody tr th:only-of-type {\n",
       "        vertical-align: middle;\n",
       "    }\n",
       "\n",
       "    .dataframe tbody tr th {\n",
       "        vertical-align: top;\n",
       "    }\n",
       "\n",
       "    .dataframe thead th {\n",
       "        text-align: right;\n",
       "    }\n",
       "</style>\n",
       "<table border=\"1\" class=\"dataframe\">\n",
       "  <thead>\n",
       "    <tr style=\"text-align: right;\">\n",
       "      <th></th>\n",
       "      <th>aluminium</th>\n",
       "      <th>ammonia</th>\n",
       "      <th>cadmium</th>\n",
       "      <th>nitrates</th>\n",
       "      <th>perchlorate</th>\n",
       "      <th>radium</th>\n",
       "      <th>uranium</th>\n",
       "      <th>is_safe</th>\n",
       "    </tr>\n",
       "  </thead>\n",
       "  <tbody>\n",
       "    <tr>\n",
       "      <th>0</th>\n",
       "      <td>1.65</td>\n",
       "      <td>9.08</td>\n",
       "      <td>0.007</td>\n",
       "      <td>16.08</td>\n",
       "      <td>37.75</td>\n",
       "      <td>6.78</td>\n",
       "      <td>0.02</td>\n",
       "      <td>1.0</td>\n",
       "    </tr>\n",
       "    <tr>\n",
       "      <th>1</th>\n",
       "      <td>2.32</td>\n",
       "      <td>21.16</td>\n",
       "      <td>0.002</td>\n",
       "      <td>2.01</td>\n",
       "      <td>32.26</td>\n",
       "      <td>3.21</td>\n",
       "      <td>0.05</td>\n",
       "      <td>1.0</td>\n",
       "    </tr>\n",
       "    <tr>\n",
       "      <th>2</th>\n",
       "      <td>1.01</td>\n",
       "      <td>14.02</td>\n",
       "      <td>0.008</td>\n",
       "      <td>14.16</td>\n",
       "      <td>50.28</td>\n",
       "      <td>7.07</td>\n",
       "      <td>0.01</td>\n",
       "      <td>0.0</td>\n",
       "    </tr>\n",
       "    <tr>\n",
       "      <th>3</th>\n",
       "      <td>1.36</td>\n",
       "      <td>11.33</td>\n",
       "      <td>0.001</td>\n",
       "      <td>1.41</td>\n",
       "      <td>9.12</td>\n",
       "      <td>1.72</td>\n",
       "      <td>0.05</td>\n",
       "      <td>1.0</td>\n",
       "    </tr>\n",
       "    <tr>\n",
       "      <th>4</th>\n",
       "      <td>0.92</td>\n",
       "      <td>24.33</td>\n",
       "      <td>0.006</td>\n",
       "      <td>6.74</td>\n",
       "      <td>16.90</td>\n",
       "      <td>2.41</td>\n",
       "      <td>0.02</td>\n",
       "      <td>1.0</td>\n",
       "    </tr>\n",
       "    <tr>\n",
       "      <th>...</th>\n",
       "      <td>...</td>\n",
       "      <td>...</td>\n",
       "      <td>...</td>\n",
       "      <td>...</td>\n",
       "      <td>...</td>\n",
       "      <td>...</td>\n",
       "      <td>...</td>\n",
       "      <td>...</td>\n",
       "    </tr>\n",
       "    <tr>\n",
       "      <th>7994</th>\n",
       "      <td>0.05</td>\n",
       "      <td>7.78</td>\n",
       "      <td>0.040</td>\n",
       "      <td>14.29</td>\n",
       "      <td>3.57</td>\n",
       "      <td>2.13</td>\n",
       "      <td>0.03</td>\n",
       "      <td>1.0</td>\n",
       "    </tr>\n",
       "    <tr>\n",
       "      <th>7995</th>\n",
       "      <td>0.05</td>\n",
       "      <td>24.22</td>\n",
       "      <td>0.010</td>\n",
       "      <td>10.27</td>\n",
       "      <td>1.48</td>\n",
       "      <td>1.11</td>\n",
       "      <td>0.08</td>\n",
       "      <td>1.0</td>\n",
       "    </tr>\n",
       "    <tr>\n",
       "      <th>7996</th>\n",
       "      <td>0.09</td>\n",
       "      <td>6.85</td>\n",
       "      <td>0.030</td>\n",
       "      <td>15.92</td>\n",
       "      <td>1.35</td>\n",
       "      <td>4.84</td>\n",
       "      <td>0.05</td>\n",
       "      <td>1.0</td>\n",
       "    </tr>\n",
       "    <tr>\n",
       "      <th>7997</th>\n",
       "      <td>0.01</td>\n",
       "      <td>10.00</td>\n",
       "      <td>0.000</td>\n",
       "      <td>0.00</td>\n",
       "      <td>0.00</td>\n",
       "      <td>0.00</td>\n",
       "      <td>0.00</td>\n",
       "      <td>1.0</td>\n",
       "    </tr>\n",
       "    <tr>\n",
       "      <th>7998</th>\n",
       "      <td>0.04</td>\n",
       "      <td>6.85</td>\n",
       "      <td>0.030</td>\n",
       "      <td>15.92</td>\n",
       "      <td>1.35</td>\n",
       "      <td>4.84</td>\n",
       "      <td>0.05</td>\n",
       "      <td>1.0</td>\n",
       "    </tr>\n",
       "  </tbody>\n",
       "</table>\n",
       "<p>7996 rows × 8 columns</p>\n",
       "</div>"
      ],
      "text/plain": [
       "      aluminium  ammonia  cadmium  nitrates  perchlorate  radium  uranium  \\\n",
       "0          1.65     9.08    0.007     16.08        37.75    6.78     0.02   \n",
       "1          2.32    21.16    0.002      2.01        32.26    3.21     0.05   \n",
       "2          1.01    14.02    0.008     14.16        50.28    7.07     0.01   \n",
       "3          1.36    11.33    0.001      1.41         9.12    1.72     0.05   \n",
       "4          0.92    24.33    0.006      6.74        16.90    2.41     0.02   \n",
       "...         ...      ...      ...       ...          ...     ...      ...   \n",
       "7994       0.05     7.78    0.040     14.29         3.57    2.13     0.03   \n",
       "7995       0.05    24.22    0.010     10.27         1.48    1.11     0.08   \n",
       "7996       0.09     6.85    0.030     15.92         1.35    4.84     0.05   \n",
       "7997       0.01    10.00    0.000      0.00         0.00    0.00     0.00   \n",
       "7998       0.04     6.85    0.030     15.92         1.35    4.84     0.05   \n",
       "\n",
       "      is_safe  \n",
       "0         1.0  \n",
       "1         1.0  \n",
       "2         0.0  \n",
       "3         1.0  \n",
       "4         1.0  \n",
       "...       ...  \n",
       "7994      1.0  \n",
       "7995      1.0  \n",
       "7996      1.0  \n",
       "7997      1.0  \n",
       "7998      1.0  \n",
       "\n",
       "[7996 rows x 8 columns]"
      ]
     },
     "execution_count": 78,
     "metadata": {},
     "output_type": "execute_result"
    }
   ],
   "source": [
    "df_fselected = df.loc[:,selector.get_feature_names_out()]\n",
    "df_fselected['is_safe'] = df['is_safe']\n",
    "df_fselected.to_csv(os.getcwd()+'/data/processed/data_featureselected.csv')\n",
    "df_fselected"
   ]
  },
  {
   "cell_type": "code",
   "execution_count": 53,
   "metadata": {},
   "outputs": [],
   "source": [
    "from sklearn.feature_selection import RFECV"
   ]
  },
  {
   "cell_type": "code",
   "execution_count": 54,
   "metadata": {},
   "outputs": [
    {
     "name": "stdout",
     "output_type": "stream",
     "text": [
      "Optimal number of features : 7\n"
     ]
    },
    {
     "name": "stderr",
     "output_type": "stream",
     "text": [
      "/Users/mcgg/opt/miniconda3/envs/the_bridge_ds/lib/python3.9/site-packages/sklearn/utils/deprecation.py:103: FutureWarning: The `grid_scores_` attribute is deprecated in version 1.0 in favor of `cv_results_` and will be removed in version 1.2.\n",
      "  warnings.warn(msg, category=FutureWarning)\n"
     ]
    },
    {
     "data": {
      "image/png": "[encoded data removed]",
      "text/plain": [
       "<Figure size 1080x576 with 1 Axes>"
      ]
     },
     "metadata": {},
     "output_type": "display_data"
    }
   ],
   "source": [
    "# Create the RFE object and compute a cross-validated score.\n",
    "xgboost = XGBClassifier()\n",
    "# The \"accuracy\" scoring shows the proportion of correct classifications\n",
    "\n",
    "min_features_to_select = 1  # Minimum number of features to consider\n",
    "rfecv = RFECV(\n",
    "    estimator=xgboost,\n",
    "    step=1,\n",
    "    \n",
    "    scoring=\"accuracy\",\n",
    "    min_features_to_select=min_features_to_select,\n",
    ")\n",
    "rfecv.fit(X, y)\n",
    "\n",
    "print(\"Optimal number of features : %d\" % rfecv.n_features_)\n",
    "\n",
    "# Plot number of features VS. cross-validation scores\n",
    "plt.figure()\n",
    "plt.xlabel(\"Number of features selected\")\n",
    "plt.ylabel(\"Cross validation score (accuracy)\")\n",
    "plt.plot(\n",
    "    range(min_features_to_select, len(rfecv.grid_scores_) + min_features_to_select),\n",
    "    rfecv.grid_scores_,\n",
    ")\n",
    "plt.show()"
   ]
  },
  {
   "cell_type": "markdown",
   "metadata": {},
   "source": [
    "***Balancing data:***\n",
    "\n",
    "---"
   ]
  },
  {
   "cell_type": "markdown",
   "metadata": {},
   "source": [
    "*`Dataset completo (sin feature selection)`*\n"
   ]
  },
  {
   "cell_type": "code",
   "execution_count": 81,
   "metadata": {},
   "outputs": [
    {
     "name": "stdout",
     "output_type": "stream",
     "text": [
      "Before OverSampling, the shape of train_X: (6396, 20)\n",
      "Before OverSampling, the shape of train_y: (6396,) \n",
      "\n"
     ]
    }
   ],
   "source": [
    "print('Before OverSampling, the shape of train_X: {}'.format(X_train.shape)) \n",
    "print('Before OverSampling, the shape of train_y: {} \\n'.format(y_train.shape)) "
   ]
  },
  {
   "cell_type": "code",
   "execution_count": 14,
   "metadata": {},
   "outputs": [],
   "source": [
    "# Apply Oversampling\n",
    "sm = SMOTE(random_state = 77) \n",
    "X_train_SMOTE, y_train_SMOTE = sm.fit_resample(X_train, y_train.ravel()) "
   ]
  },
  {
   "cell_type": "code",
   "execution_count": 15,
   "metadata": {},
   "outputs": [
    {
     "data": {
      "text/plain": [
       "<AxesSubplot:ylabel='count'>"
      ]
     },
     "execution_count": 15,
     "metadata": {},
     "output_type": "execute_result"
    },
    {
     "data": {
      "image/png": "[encoded data removed]",
      "text/plain": [
       "<Figure size 1080x576 with 1 Axes>"
      ]
     },
     "metadata": {},
     "output_type": "display_data"
    }
   ],
   "source": [
    "sns.countplot(x=y_train_SMOTE,palette='coolwarm')"
   ]
  },
  {
   "cell_type": "code",
   "execution_count": 16,
   "metadata": {},
   "outputs": [
    {
     "data": {
      "image/png": "[encoded data removed]",
      "text/plain": [
       "<Figure size 1080x576 with 1 Axes>"
      ]
     },
     "metadata": {},
     "output_type": "display_data"
    }
   ],
   "source": [
    "sns.set(rc={'figure.figsize':(15, 8)})\n",
    "colors = sns.color_palette(\"Blues\")\n",
    "\n",
    "labels = ['Safe: 1','Not safe: 0']\n",
    "sizes =  [y_train_SMOTE.sum(),len(y_train_SMOTE)-y_train_SMOTE.sum()]\n",
    "explode = (0, 0.1)  \n",
    "\n",
    "fig1, ax1 = plt.subplots()\n",
    "ax1.pie(sizes, explode=explode, labels=labels,colors=colors, autopct='%1.1f%%',\n",
    "        shadow=True, startangle=90)\n",
    "ax1.axis('equal') \n",
    "plt.show()"
   ]
  },
  {
   "cell_type": "code",
   "execution_count": 17,
   "metadata": {},
   "outputs": [
    {
     "name": "stdout",
     "output_type": "stream",
     "text": [
      "After OverSampling, the shape of train_X: (11302, 20)\n",
      "After OverSampling, the shape of train_y: (11302,) \n",
      "\n"
     ]
    }
   ],
   "source": [
    "print('After OverSampling, the shape of train_X: {}'.format(X_train_SMOTE.shape)) \n",
    "print('After OverSampling, the shape of train_y: {} \\n'.format(y_train_SMOTE.shape)) "
   ]
  },
  {
   "cell_type": "code",
   "execution_count": 18,
   "metadata": {},
   "outputs": [],
   "source": [
    "# Apply Combining\n",
    "sm = SMOTEENN(random_state = 77) \n",
    "X_train_SMOTEENN, y_train_SMOTEENN = sm.fit_resample(X_train, y_train.ravel()) "
   ]
  },
  {
   "cell_type": "code",
   "execution_count": 19,
   "metadata": {},
   "outputs": [
    {
     "data": {
      "text/plain": [
       "<AxesSubplot:ylabel='count'>"
      ]
     },
     "execution_count": 19,
     "metadata": {},
     "output_type": "execute_result"
    },
    {
     "data": {
      "image/png": "[encoded data removed]",
      "text/plain": [
       "<Figure size 1080x576 with 1 Axes>"
      ]
     },
     "metadata": {},
     "output_type": "display_data"
    }
   ],
   "source": [
    "sns.countplot(x=y_train_SMOTEENN,palette='coolwarm')"
   ]
  },
  {
   "cell_type": "code",
   "execution_count": 20,
   "metadata": {},
   "outputs": [
    {
     "data": {
      "image/png": "[encoded data removed]",
      "text/plain": [
       "<Figure size 1080x576 with 1 Axes>"
      ]
     },
     "metadata": {},
     "output_type": "display_data"
    }
   ],
   "source": [
    "sns.set(rc={'figure.figsize':(15, 8)})\n",
    "colors = sns.color_palette(\"Blues\")\n",
    "\n",
    "labels = ['Safe: 1','Not safe: 0']\n",
    "sizes =  [y_train_SMOTEENN.sum(),len(y_train_SMOTEENN)-y_train_SMOTEENN.sum()]\n",
    "explode = (0, 0.1)  \n",
    "\n",
    "fig1, ax1 = plt.subplots()\n",
    "ax1.pie(sizes, explode=explode, labels=labels,colors=colors, autopct='%1.1f%%',\n",
    "        shadow=True, startangle=90)\n",
    "ax1.axis('equal') \n",
    "plt.show()"
   ]
  },
  {
   "cell_type": "code",
   "execution_count": 21,
   "metadata": {},
   "outputs": [
    {
     "name": "stdout",
     "output_type": "stream",
     "text": [
      "After OverSampling, the shape of train_X: (8965, 20)\n",
      "After OverSampling, the shape of train_y: (8965,) \n",
      "\n"
     ]
    }
   ],
   "source": [
    "print('After OverSampling, the shape of train_X: {}'.format(X_train_SMOTEENN.shape)) \n",
    "print('After OverSampling, the shape of train_y: {} \\n'.format(y_train_SMOTEENN.shape)) "
   ]
  },
  {
   "cell_type": "code",
   "execution_count": 51,
   "metadata": {},
   "outputs": [],
   "source": [
    "from sklearn.pipeline import make_pipeline\n",
    "from sklearn.metrics import classification_report"
   ]
  },
  {
   "cell_type": "code",
   "execution_count": 49,
   "metadata": {},
   "outputs": [
    {
     "name": "stdout",
     "output_type": "stream",
     "text": [
      "              precision    recall  f1-score   support\n",
      "\n",
      "         0.0       0.98      0.99      0.99      1433\n",
      "         1.0       0.90      0.84      0.87       167\n",
      "\n",
      "    accuracy                           0.97      1600\n",
      "   macro avg       0.94      0.91      0.93      1600\n",
      "weighted avg       0.97      0.97      0.97      1600\n",
      "\n"
     ]
    }
   ],
   "source": [
    "\n",
    "pipe = make_pipeline(StandardScaler(), XGBClassifier())\n",
    "pipe.fit(X_train,y_train)\n",
    "y_pred = pipe.predict(X_test)\n",
    "print(classification_report(y_test, y_pred))"
   ]
  },
  {
   "cell_type": "code",
   "execution_count": 48,
   "metadata": {},
   "outputs": [
    {
     "name": "stdout",
     "output_type": "stream",
     "text": [
      "              precision    recall  f1-score   support\n",
      "\n",
      "         0.0       0.98      0.98      0.98      1433\n",
      "         1.0       0.85      0.85      0.85       167\n",
      "\n",
      "    accuracy                           0.97      1600\n",
      "   macro avg       0.91      0.92      0.91      1600\n",
      "weighted avg       0.97      0.97      0.97      1600\n",
      "\n"
     ]
    }
   ],
   "source": [
    "pipe = make_pipeline(StandardScaler(), XGBClassifier())\n",
    "pipe.fit(X_train_SMOTE,y_train_SMOTE)\n",
    "y_pred = pipe.predict(X_test)\n",
    "print(classification_report(y_test, y_pred))"
   ]
  },
  {
   "cell_type": "code",
   "execution_count": 50,
   "metadata": {},
   "outputs": [
    {
     "name": "stdout",
     "output_type": "stream",
     "text": [
      "              precision    recall  f1-score   support\n",
      "\n",
      "         0.0       0.99      0.95      0.97      1433\n",
      "         1.0       0.68      0.93      0.78       167\n",
      "\n",
      "    accuracy                           0.95      1600\n",
      "   macro avg       0.84      0.94      0.88      1600\n",
      "weighted avg       0.96      0.95      0.95      1600\n",
      "\n"
     ]
    }
   ],
   "source": [
    "pipe = make_pipeline(StandardScaler(), XGBClassifier())\n",
    "pipe.fit(X_train_SMOTEENN,y_train_SMOTEENN)\n",
    "y_pred = pipe.predict(X_test)\n",
    "print(classification_report(y_test, y_pred))"
   ]
  },
  {
   "cell_type": "markdown",
   "metadata": {},
   "source": [
    "*`Dataset después del feature selection (7 variables independientes)`*"
   ]
  },
  {
   "cell_type": "code",
   "execution_count": 84,
   "metadata": {},
   "outputs": [],
   "source": [
    "data_FS = df_fselected.copy()\n",
    "target = 'is_safe'\n",
    "X_FS = data_FS.drop([target], axis=1)\n",
    "\n",
    "y_FS = data_FS[target].copy()\n",
    "\n",
    "X_train_FS, X_test_FS, y_train_FS, y_test_FS = train_test_split(X_FS, y_FS, test_size = 0.2, random_state = 77)"
   ]
  },
  {
   "cell_type": "code",
   "execution_count": 85,
   "metadata": {},
   "outputs": [
    {
     "name": "stdout",
     "output_type": "stream",
     "text": [
      "Before OverSampling, the shape of train_X: (6396, 7)\n",
      "Before OverSampling, the shape of train_y: (6396,) \n",
      "\n"
     ]
    }
   ],
   "source": [
    "print('Before OverSampling, the shape of train_X: {}'.format(X_train_FS.shape)) \n",
    "print('Before OverSampling, the shape of train_y: {} \\n'.format(y_train_FS.shape)) "
   ]
  },
  {
   "cell_type": "code",
   "execution_count": 86,
   "metadata": {},
   "outputs": [
    {
     "data": {
      "text/plain": [
       "<AxesSubplot:ylabel='count'>"
      ]
     },
     "execution_count": 86,
     "metadata": {},
     "output_type": "execute_result"
    },
    {
     "data": {
      "image/png": "[encoded data removed]",
      "text/plain": [
       "<Figure size 1080x576 with 1 Axes>"
      ]
     },
     "metadata": {},
     "output_type": "display_data"
    }
   ],
   "source": [
    "# Apply Oversampling\n",
    "sm = SMOTE(random_state = 77) \n",
    "X_train_FSSMOTE, y_train_FSSMOTE = sm.fit_resample(X_train_FS, y_train_FS.ravel()) \n",
    "\n",
    "sns.countplot(x=y_train_FSSMOTE,palette='coolwarm')"
   ]
  },
  {
   "cell_type": "code",
   "execution_count": 87,
   "metadata": {},
   "outputs": [
    {
     "data": {
      "image/png": "[encoded data removed]",
      "text/plain": [
       "<Figure size 1080x576 with 1 Axes>"
      ]
     },
     "metadata": {},
     "output_type": "display_data"
    }
   ],
   "source": [
    "sns.set(rc={'figure.figsize':(15, 8)})\n",
    "colors = sns.color_palette(\"Blues\")\n",
    "\n",
    "labels = ['Safe: 1','Not safe: 0']\n",
    "sizes =  [y_train_FSSMOTE.sum(),len(y_train_FSSMOTE)-y_train_FSSMOTE.sum()]\n",
    "explode = (0, 0.1)  \n",
    "\n",
    "fig1, ax1 = plt.subplots()\n",
    "ax1.pie(sizes, explode=explode, labels=labels,colors=colors, autopct='%1.1f%%',\n",
    "        shadow=True, startangle=90)\n",
    "ax1.axis('equal') \n",
    "plt.show()"
   ]
  },
  {
   "cell_type": "code",
   "execution_count": 88,
   "metadata": {},
   "outputs": [],
   "source": [
    "# Apply Combining\n",
    "sm = SMOTEENN(random_state = 77) \n",
    "X_train_FSSMOTEENN, y_train_FSSMOTEENN = sm.fit_resample(X_train_FS, y_train_FS.ravel()) "
   ]
  },
  {
   "cell_type": "code",
   "execution_count": 89,
   "metadata": {},
   "outputs": [
    {
     "data": {
      "text/plain": [
       "<AxesSubplot:ylabel='count'>"
      ]
     },
     "execution_count": 89,
     "metadata": {},
     "output_type": "execute_result"
    },
    {
     "data": {
      "image/png": "[encoded data removed]",
      "text/plain": [
       "<Figure size 1080x576 with 1 Axes>"
      ]
     },
     "metadata": {},
     "output_type": "display_data"
    }
   ],
   "source": [
    "sns.countplot(x=y_train_FSSMOTEENN,palette='coolwarm')"
   ]
  },
  {
   "cell_type": "code",
   "execution_count": 90,
   "metadata": {},
   "outputs": [
    {
     "data": {
      "image/png": "[encoded data removed]",
      "text/plain": [
       "<Figure size 1080x576 with 1 Axes>"
      ]
     },
     "metadata": {},
     "output_type": "display_data"
    }
   ],
   "source": [
    "sns.set(rc={'figure.figsize':(15, 8)})\n",
    "colors = sns.color_palette(\"Blues\")\n",
    "\n",
    "labels = ['Safe: 1','Not safe: 0']\n",
    "sizes =  [y_train_FSSMOTEENN.sum(),len(y_train_FSSMOTEENN)-y_train_FSSMOTEENN.sum()]\n",
    "explode = (0, 0.1)  \n",
    "\n",
    "fig1, ax1 = plt.subplots()\n",
    "ax1.pie(sizes, explode=explode, labels=labels,colors=colors, autopct='%1.1f%%',\n",
    "        shadow=True, startangle=90)\n",
    "ax1.axis('equal') \n",
    "plt.show()"
   ]
  },
  {
   "cell_type": "code",
   "execution_count": 92,
   "metadata": {},
   "outputs": [
    {
     "name": "stdout",
     "output_type": "stream",
     "text": [
      "              precision    recall  f1-score   support\n",
      "\n",
      "         0.0       0.97      0.99      0.98      1433\n",
      "         1.0       0.90      0.72      0.80       167\n",
      "\n",
      "    accuracy                           0.96      1600\n",
      "   macro avg       0.94      0.85      0.89      1600\n",
      "weighted avg       0.96      0.96      0.96      1600\n",
      "\n"
     ]
    }
   ],
   "source": [
    "\n",
    "pipe = make_pipeline(StandardScaler(), XGBClassifier())\n",
    "pipe.fit(X_train_FS,y_train_FS)\n",
    "y_pred = pipe.predict(X_test_FS)\n",
    "print(classification_report(y_test_FS, y_pred))"
   ]
  },
  {
   "cell_type": "code",
   "execution_count": 93,
   "metadata": {},
   "outputs": [
    {
     "name": "stdout",
     "output_type": "stream",
     "text": [
      "              precision    recall  f1-score   support\n",
      "\n",
      "         0.0       0.97      0.98      0.98      1433\n",
      "         1.0       0.82      0.73      0.77       167\n",
      "\n",
      "    accuracy                           0.96      1600\n",
      "   macro avg       0.90      0.86      0.87      1600\n",
      "weighted avg       0.95      0.96      0.95      1600\n",
      "\n"
     ]
    }
   ],
   "source": [
    "pipe = make_pipeline(StandardScaler(), XGBClassifier())\n",
    "pipe.fit(X_train_FSSMOTE,y_train_FSSMOTE)\n",
    "y_pred = pipe.predict(X_test_FS)\n",
    "print(classification_report(y_test_FS, y_pred))"
   ]
  },
  {
   "cell_type": "code",
   "execution_count": 94,
   "metadata": {},
   "outputs": [
    {
     "name": "stdout",
     "output_type": "stream",
     "text": [
      "              precision    recall  f1-score   support\n",
      "\n",
      "         0.0       0.98      0.94      0.96      1433\n",
      "         1.0       0.61      0.80      0.69       167\n",
      "\n",
      "    accuracy                           0.93      1600\n",
      "   macro avg       0.79      0.87      0.83      1600\n",
      "weighted avg       0.94      0.93      0.93      1600\n",
      "\n"
     ]
    }
   ],
   "source": [
    "pipe = make_pipeline(StandardScaler(), XGBClassifier())\n",
    "pipe.fit(X_train_FSSMOTEENN,y_train_FSSMOTEENN)\n",
    "y_pred = pipe.predict(X_test_FS)\n",
    "print(classification_report(y_test_FS, y_pred))"
   ]
  },
  {
   "cell_type": "markdown",
   "metadata": {},
   "source": [
    "**Observaciones:**\n",
    "\n",
    "Se puede ver que utilizando como prueba el modelo XGBoostClassifier() las mejores métricas están entre: \n",
    "\n",
    "- Dataset completo sin alterar con balanceo ni feature selection: mejores métricas de modo general. \n",
    "- Dataset balanceado con SMOTEENN sin la feature selection: mejor precisión, sin embargo disminuyen las otras métricas\n",
    "\n",
    "**Propuesta:**\n",
    "\n",
    "- Prueba con ajuste de hiperparámetros para confirmar los datos obtenidos de la prueba general.\n"
   ]
  },
  {
   "cell_type": "markdown",
   "metadata": {},
   "source": [
    "##  **2.3. Modelado**<a id='23'></a>"
   ]
  },
  {
   "cell_type": "markdown",
   "metadata": {},
   "source": [
    "## Baseline con feature selection data:\n",
    "\n",
    "Se realiza la `prueba general de modelos` para ver cual de ellos tiene las mejores métricas ***habiendo realizado feature selection***. Aún sin aplicarle el balanceo ni el ajuste de parámetros."
   ]
  },
  {
   "cell_type": "code",
   "execution_count": 95,
   "metadata": {},
   "outputs": [
    {
     "name": "stderr",
     "output_type": "stream",
     "text": [
      "/Users/mcgg/opt/miniconda3/envs/the_bridge_ds/lib/python3.9/site-packages/sklearn/linear_model/_logistic.py:444: ConvergenceWarning: lbfgs failed to converge (status=1):\n",
      "STOP: TOTAL NO. of ITERATIONS REACHED LIMIT.\n",
      "\n",
      "Increase the number of iterations (max_iter) or scale the data as shown in:\n",
      "    https://scikit-learn.org/stable/modules/preprocessing.html\n",
      "Please also refer to the documentation for alternative solver options:\n",
      "    https://scikit-learn.org/stable/modules/linear_model.html#logistic-regression\n",
      "  n_iter_i = _check_optimize_result(\n"
     ]
    },
    {
     "name": "stdout",
     "output_type": "stream",
     "text": [
      "<class 'list'>\n",
      "Saved\n",
      "Saved\n",
      "Saved\n",
      "Saved\n",
      "Saved\n",
      "Saved\n",
      "Saved\n",
      "Saved\n"
     ]
    },
    {
     "name": "stderr",
     "output_type": "stream",
     "text": [
      "/Users/mcgg/opt/miniconda3/envs/the_bridge_ds/lib/python3.9/site-packages/sklearn/metrics/_classification.py:1327: UndefinedMetricWarning: Precision is ill-defined and being set to 0.0 due to no predicted samples. Use `zero_division` parameter to control this behavior.\n",
      "  _warn_prf(average, modifier, msg_start, len(result))\n"
     ]
    },
    {
     "name": "stdout",
     "output_type": "stream",
     "text": [
      "Saved\n",
      "Saved\n",
      "Saved\n",
      "Saved\n"
     ]
    }
   ],
   "source": [
    "modelos = choose_models('all',None,clf = True)\n",
    "\n",
    "for modelo in list(modelos.keys()):\n",
    "    metricas,pack = baseline(df_fselected, 'is_safe', base_model = modelos[modelo], clf = True,file_name='baseline_fs_metrics.csv')\n",
    "    "
   ]
  },
  {
   "cell_type": "code",
   "execution_count": 128,
   "metadata": {},
   "outputs": [
    {
     "data": {
      "text/html": [
       "<div>\n",
       "<style scoped>\n",
       "    .dataframe tbody tr th:only-of-type {\n",
       "        vertical-align: middle;\n",
       "    }\n",
       "\n",
       "    .dataframe tbody tr th {\n",
       "        vertical-align: top;\n",
       "    }\n",
       "\n",
       "    .dataframe thead th {\n",
       "        text-align: right;\n",
       "    }\n",
       "</style>\n",
       "<table border=\"1\" class=\"dataframe\">\n",
       "  <thead>\n",
       "    <tr style=\"text-align: right;\">\n",
       "      <th></th>\n",
       "      <th>model</th>\n",
       "      <th>ACC</th>\n",
       "      <th>Precision</th>\n",
       "      <th>Recall</th>\n",
       "      <th>F1</th>\n",
       "      <th>ROC</th>\n",
       "      <th>Jaccard</th>\n",
       "    </tr>\n",
       "  </thead>\n",
       "  <tbody>\n",
       "    <tr>\n",
       "      <th>4</th>\n",
       "      <td>RandomForestClassifier</td>\n",
       "      <td>0.958750</td>\n",
       "      <td>0.917355</td>\n",
       "      <td>0.664671</td>\n",
       "      <td>0.770833</td>\n",
       "      <td>0.828846</td>\n",
       "      <td>0.627119</td>\n",
       "    </tr>\n",
       "    <tr>\n",
       "      <th>9</th>\n",
       "      <td>XGBClassifier</td>\n",
       "      <td>0.962500</td>\n",
       "      <td>0.902256</td>\n",
       "      <td>0.718563</td>\n",
       "      <td>0.800000</td>\n",
       "      <td>0.854745</td>\n",
       "      <td>0.666667</td>\n",
       "    </tr>\n",
       "    <tr>\n",
       "      <th>10</th>\n",
       "      <td>VotingClassifier</td>\n",
       "      <td>0.957500</td>\n",
       "      <td>0.896000</td>\n",
       "      <td>0.670659</td>\n",
       "      <td>0.767123</td>\n",
       "      <td>0.830793</td>\n",
       "      <td>0.622222</td>\n",
       "    </tr>\n",
       "    <tr>\n",
       "      <th>5</th>\n",
       "      <td>BaggingClassifier</td>\n",
       "      <td>0.952500</td>\n",
       "      <td>0.858268</td>\n",
       "      <td>0.652695</td>\n",
       "      <td>0.741497</td>\n",
       "      <td>0.820067</td>\n",
       "      <td>0.589189</td>\n",
       "    </tr>\n",
       "    <tr>\n",
       "      <th>7</th>\n",
       "      <td>GradientBoostingClassifier</td>\n",
       "      <td>0.951875</td>\n",
       "      <td>0.846154</td>\n",
       "      <td>0.658683</td>\n",
       "      <td>0.740741</td>\n",
       "      <td>0.822363</td>\n",
       "      <td>0.588235</td>\n",
       "    </tr>\n",
       "    <tr>\n",
       "      <th>6</th>\n",
       "      <td>AdaBoostClassifier</td>\n",
       "      <td>0.930625</td>\n",
       "      <td>0.750000</td>\n",
       "      <td>0.502994</td>\n",
       "      <td>0.602151</td>\n",
       "      <td>0.741727</td>\n",
       "      <td>0.430769</td>\n",
       "    </tr>\n",
       "    <tr>\n",
       "      <th>0</th>\n",
       "      <td>LogisticRegression</td>\n",
       "      <td>0.903125</td>\n",
       "      <td>0.625000</td>\n",
       "      <td>0.179641</td>\n",
       "      <td>0.279070</td>\n",
       "      <td>0.583540</td>\n",
       "      <td>0.162162</td>\n",
       "    </tr>\n",
       "    <tr>\n",
       "      <th>2</th>\n",
       "      <td>DecisionTreeClassifier</td>\n",
       "      <td>0.924375</td>\n",
       "      <td>0.618557</td>\n",
       "      <td>0.718563</td>\n",
       "      <td>0.664820</td>\n",
       "      <td>0.833461</td>\n",
       "      <td>0.497925</td>\n",
       "    </tr>\n",
       "    <tr>\n",
       "      <th>11</th>\n",
       "      <td>LinearDiscriminantAnalysis</td>\n",
       "      <td>0.891250</td>\n",
       "      <td>0.472000</td>\n",
       "      <td>0.353293</td>\n",
       "      <td>0.404110</td>\n",
       "      <td>0.653618</td>\n",
       "      <td>0.253219</td>\n",
       "    </tr>\n",
       "    <tr>\n",
       "      <th>3</th>\n",
       "      <td>ExtraTreeClassifier</td>\n",
       "      <td>0.885625</td>\n",
       "      <td>0.457895</td>\n",
       "      <td>0.520958</td>\n",
       "      <td>0.487395</td>\n",
       "      <td>0.724540</td>\n",
       "      <td>0.322222</td>\n",
       "    </tr>\n",
       "    <tr>\n",
       "      <th>1</th>\n",
       "      <td>KNeighborsClassifier</td>\n",
       "      <td>0.885000</td>\n",
       "      <td>0.373134</td>\n",
       "      <td>0.149701</td>\n",
       "      <td>0.213675</td>\n",
       "      <td>0.560196</td>\n",
       "      <td>0.119617</td>\n",
       "    </tr>\n",
       "    <tr>\n",
       "      <th>8</th>\n",
       "      <td>SVC</td>\n",
       "      <td>0.895625</td>\n",
       "      <td>0.000000</td>\n",
       "      <td>0.000000</td>\n",
       "      <td>0.000000</td>\n",
       "      <td>0.500000</td>\n",
       "      <td>0.000000</td>\n",
       "    </tr>\n",
       "  </tbody>\n",
       "</table>\n",
       "</div>"
      ],
      "text/plain": [
       "                         model       ACC  Precision    Recall        F1  \\\n",
       "4       RandomForestClassifier  0.958750   0.917355  0.664671  0.770833   \n",
       "9                XGBClassifier  0.962500   0.902256  0.718563  0.800000   \n",
       "10            VotingClassifier  0.957500   0.896000  0.670659  0.767123   \n",
       "5            BaggingClassifier  0.952500   0.858268  0.652695  0.741497   \n",
       "7   GradientBoostingClassifier  0.951875   0.846154  0.658683  0.740741   \n",
       "6           AdaBoostClassifier  0.930625   0.750000  0.502994  0.602151   \n",
       "0           LogisticRegression  0.903125   0.625000  0.179641  0.279070   \n",
       "2       DecisionTreeClassifier  0.924375   0.618557  0.718563  0.664820   \n",
       "11  LinearDiscriminantAnalysis  0.891250   0.472000  0.353293  0.404110   \n",
       "3          ExtraTreeClassifier  0.885625   0.457895  0.520958  0.487395   \n",
       "1         KNeighborsClassifier  0.885000   0.373134  0.149701  0.213675   \n",
       "8                          SVC  0.895625   0.000000  0.000000  0.000000   \n",
       "\n",
       "         ROC   Jaccard  \n",
       "4   0.828846  0.627119  \n",
       "9   0.854745  0.666667  \n",
       "10  0.830793  0.622222  \n",
       "5   0.820067  0.589189  \n",
       "7   0.822363  0.588235  \n",
       "6   0.741727  0.430769  \n",
       "0   0.583540  0.162162  \n",
       "2   0.833461  0.497925  \n",
       "11  0.653618  0.253219  \n",
       "3   0.724540  0.322222  \n",
       "1   0.560196  0.119617  \n",
       "8   0.500000  0.000000  "
      ]
     },
     "execution_count": 128,
     "metadata": {},
     "output_type": "execute_result"
    }
   ],
   "source": [
    "saved_metrics = pd.read_csv('model/model_metrics/baseline_fs_metrics.csv',sep=';').sort_values(by='Precision',ascending=False)\n",
    "saved_metrics"
   ]
  },
  {
   "cell_type": "code",
   "execution_count": 130,
   "metadata": {},
   "outputs": [
    {
     "name": "stderr",
     "output_type": "stream",
     "text": [
      "/Users/mcgg/opt/miniconda3/envs/the_bridge_ds/lib/python3.9/site-packages/seaborn/_decorators.py:36: FutureWarning: Pass the following variables as keyword args: x, y. From version 0.12, the only valid positional argument will be `data`, and passing other arguments without an explicit keyword will result in an error or misinterpretation.\n",
      "  warnings.warn(\n"
     ]
    },
    {
     "data": {
      "image/png": "[encoded data removed]",
      "text/plain": [
       "<Figure size 1080x576 with 1 Axes>"
      ]
     },
     "metadata": {},
     "output_type": "display_data"
    }
   ],
   "source": [
    "cv_means = saved_metrics['Precision']\n",
    "cv_means = cv_means[:-1]\n",
    "lista = saved_metrics['model']\n",
    "lista = lista[:-1]\n",
    "\n",
    "cv_frame = pd.DataFrame(\n",
    "    {\n",
    "        \"CrossValMeans\":cv_means.astype(float),\n",
    "        \"Algorithms\": lista\n",
    "    })\n",
    "\n",
    "cv_plot = sns.barplot(\"CrossValMeans\",\"Algorithms\", data = cv_frame,palette='Blues')\n",
    "\n",
    "cv_plot.set_xlabel(\"Precision\")\n",
    "cv_plot = cv_plot.set_title(\"Comparación\")"
   ]
  },
  {
   "cell_type": "markdown",
   "metadata": {},
   "source": [
    "## Ajuste de hiperparámetros:\n",
    "\n",
    "Con este apartado se pretende `mejorar estimadores` realizando el ***ajuste de hiperparámetros***.  \n",
    "\n",
    "Se seleccionan los cuatro estimadores que han ido liderando la tabla de métricas y se realiza de nuevo su modelado buscando aquellos parámetros que puedan optimizar el modelo.\n",
    "\n",
    "- En primer, lugar se ajustan los hiperparámetros utilizando el dataset al que se le ha realizado el feature selection.\n",
    "- Se ajustan los hiperparámetros con el dataset completo y el balanceo aplicado sobre el mismo con el método SMOTEENN."
   ]
  },
  {
   "cell_type": "code",
   "execution_count": null,
   "metadata": {},
   "outputs": [],
   "source": [
    "mods = ['RFC','BagC','XGBC','GBC']\n",
    "\n",
    "for mod in mods:    \n",
    "    models_generator(df_fselected,'is_safe',choose_models(mod,params=None),choose_params(mod),\n",
    "    file_name='fs_metrics.csv',dir_file='model/model_metrics',dir_model_file='model',scaling=False,\n",
    "    scoring = { \"AUC\": \"roc_auc\",\"Accuracy\": make_scorer(accuracy_score)})"
   ]
  },
  {
   "cell_type": "code",
   "execution_count": 137,
   "metadata": {},
   "outputs": [
    {
     "data": {
      "text/html": [
       "<div>\n",
       "<style scoped>\n",
       "    .dataframe tbody tr th:only-of-type {\n",
       "        vertical-align: middle;\n",
       "    }\n",
       "\n",
       "    .dataframe tbody tr th {\n",
       "        vertical-align: top;\n",
       "    }\n",
       "\n",
       "    .dataframe thead th {\n",
       "        text-align: right;\n",
       "    }\n",
       "</style>\n",
       "<table border=\"1\" class=\"dataframe\">\n",
       "  <thead>\n",
       "    <tr style=\"text-align: right;\">\n",
       "      <th></th>\n",
       "      <th>model</th>\n",
       "      <th>params_tried</th>\n",
       "      <th>best_params</th>\n",
       "      <th>ACC</th>\n",
       "      <th>Precision</th>\n",
       "      <th>Recall</th>\n",
       "      <th>F1</th>\n",
       "      <th>ROC</th>\n",
       "      <th>Jaccard</th>\n",
       "      <th>model_path</th>\n",
       "    </tr>\n",
       "  </thead>\n",
       "  <tbody>\n",
       "    <tr>\n",
       "      <th>0</th>\n",
       "      <td>RandomForestClassifier</td>\n",
       "      <td>{'n_estimators': array([ 10,  25,  41,  56,  7...</td>\n",
       "      <td>{'class_weight': None, 'criterion': 'entropy',...</td>\n",
       "      <td>0.957500</td>\n",
       "      <td>0.915966</td>\n",
       "      <td>0.652695</td>\n",
       "      <td>0.762238</td>\n",
       "      <td>0.822858</td>\n",
       "      <td>0.615819</td>\n",
       "      <td>model/RandomForestClassifier_1.pkl</td>\n",
       "    </tr>\n",
       "    <tr>\n",
       "      <th>1</th>\n",
       "      <td>BaggingClassifier</td>\n",
       "      <td>{'n_estimators': [10, 20, 30, 50, 100], 'max_s...</td>\n",
       "      <td>{'max_samples': 0.5, 'n_estimators': 100}</td>\n",
       "      <td>0.956875</td>\n",
       "      <td>0.908333</td>\n",
       "      <td>0.652695</td>\n",
       "      <td>0.759582</td>\n",
       "      <td>0.822509</td>\n",
       "      <td>0.612360</td>\n",
       "      <td>model/BaggingClassifier_2.pkl</td>\n",
       "    </tr>\n",
       "    <tr>\n",
       "      <th>2</th>\n",
       "      <td>XGBClassifier</td>\n",
       "      <td>{'nthread': [4], 'objective': ['binary:logisti...</td>\n",
       "      <td>{'colsample_bytree': 1.0, 'learning_rate': 0.0...</td>\n",
       "      <td>0.955000</td>\n",
       "      <td>0.880000</td>\n",
       "      <td>0.658683</td>\n",
       "      <td>0.753425</td>\n",
       "      <td>0.824108</td>\n",
       "      <td>0.604396</td>\n",
       "      <td>model/XGBClassifier_1.pkl</td>\n",
       "    </tr>\n",
       "    <tr>\n",
       "      <th>3</th>\n",
       "      <td>GradientBoostingClassifier</td>\n",
       "      <td>{'n_estimators': [10, 20, 30, 50, 100], 'max_d...</td>\n",
       "      <td>{'criterion': 'mse', 'loss': 'log_loss', 'max_...</td>\n",
       "      <td>0.953125</td>\n",
       "      <td>0.848485</td>\n",
       "      <td>0.670659</td>\n",
       "      <td>0.749164</td>\n",
       "      <td>0.828351</td>\n",
       "      <td>0.598930</td>\n",
       "      <td>model/GradientBoostingClassifier_2.pkl</td>\n",
       "    </tr>\n",
       "  </tbody>\n",
       "</table>\n",
       "</div>"
      ],
      "text/plain": [
       "                        model  \\\n",
       "0      RandomForestClassifier   \n",
       "1           BaggingClassifier   \n",
       "2               XGBClassifier   \n",
       "3  GradientBoostingClassifier   \n",
       "\n",
       "                                        params_tried  \\\n",
       "0  {'n_estimators': array([ 10,  25,  41,  56,  7...   \n",
       "1  {'n_estimators': [10, 20, 30, 50, 100], 'max_s...   \n",
       "2  {'nthread': [4], 'objective': ['binary:logisti...   \n",
       "3  {'n_estimators': [10, 20, 30, 50, 100], 'max_d...   \n",
       "\n",
       "                                         best_params       ACC  Precision  \\\n",
       "0  {'class_weight': None, 'criterion': 'entropy',...  0.957500   0.915966   \n",
       "1          {'max_samples': 0.5, 'n_estimators': 100}  0.956875   0.908333   \n",
       "2  {'colsample_bytree': 1.0, 'learning_rate': 0.0...  0.955000   0.880000   \n",
       "3  {'criterion': 'mse', 'loss': 'log_loss', 'max_...  0.953125   0.848485   \n",
       "\n",
       "     Recall        F1       ROC   Jaccard  \\\n",
       "0  0.652695  0.762238  0.822858  0.615819   \n",
       "1  0.652695  0.759582  0.822509  0.612360   \n",
       "2  0.658683  0.753425  0.824108  0.604396   \n",
       "3  0.670659  0.749164  0.828351  0.598930   \n",
       "\n",
       "                               model_path  \n",
       "0      model/RandomForestClassifier_1.pkl  \n",
       "1           model/BaggingClassifier_2.pkl  \n",
       "2               model/XGBClassifier_1.pkl  \n",
       "3  model/GradientBoostingClassifier_2.pkl  "
      ]
     },
     "execution_count": 137,
     "metadata": {},
     "output_type": "execute_result"
    }
   ],
   "source": [
    "saved_fs_metrics = pd.read_csv('model/model_metrics/fs_metrics.csv',sep=';').sort_values(by='Precision',ascending=False)\n",
    "saved_fs_metrics"
   ]
  },
  {
   "cell_type": "code",
   "execution_count": 9,
   "metadata": {},
   "outputs": [
    {
     "name": "stdout",
     "output_type": "stream",
     "text": [
      "Model RandomForestClassifier saved\n",
      "Saved\n",
      "Model BaggingClassifier saved\n",
      "Saved\n",
      "Model GradientBoostingClassifier saved\n",
      "Saved\n"
     ]
    }
   ],
   "source": [
    "mods = ['RFC','BagC','XGBC','GBC']\n",
    "\n",
    "for mod in mods:    \n",
    "    models_generator(df,'is_safe',choose_models(mod,params=None),choose_params(mod),\n",
    "    file_name='metrics_balanced.csv',dir_file='model/model_metrics',dir_model_file='model',scaling = True,\n",
    "    scoring = { \"AUC\": \"roc_auc\",\"Accuracy\": make_scorer(accuracy_score)}, balancing = True)"
   ]
  },
  {
   "cell_type": "code",
   "execution_count": null,
   "metadata": {},
   "outputs": [],
   "source": [
    "saved_balanced_metrics = pd.read_csv('model/model_metrics/metrics_balanced.csv',sep=';').sort_values(by='Precision',ascending=False)\n",
    "saved_balanced_metrics"
   ]
  },
  {
   "cell_type": "markdown",
   "metadata": {},
   "source": [
    "## Prueba con Perceptrón:\n",
    "\n",
    "Se realiza una comprobación de la `posibilidad de usar una red neuronal`, como el perceptrón, para resolver este problema de clasificación."
   ]
  },
  {
   "cell_type": "code",
   "execution_count": null,
   "metadata": {},
   "outputs": [],
   "source": [
    "from sklearn.neural_network import MLPClassifier\n",
    "metricas,pack = baseline(df, 'is_safe', base_model = MLPClassifier(), clf = True,file_name='DL_metrics.csv')"
   ]
  },
  {
   "cell_type": "code",
   "execution_count": 126,
   "metadata": {},
   "outputs": [
    {
     "name": "stdout",
     "output_type": "stream",
     "text": [
      "Saved\n"
     ]
    },
    {
     "name": "stderr",
     "output_type": "stream",
     "text": [
      "/Users/mcgg/opt/miniconda3/envs/the_bridge_ds/lib/python3.9/site-packages/sklearn/neural_network/_multilayer_perceptron.py:702: ConvergenceWarning: Stochastic Optimizer: Maximum iterations (200) reached and the optimization hasn't converged yet.\n",
      "  warnings.warn(\n"
     ]
    }
   ],
   "source": [
    "from sklearn.neural_network import MLPClassifier\n",
    "metricas,pack = baseline(df_fselected, 'is_safe', base_model = MLPClassifier(), clf = True,file_name='DL_metrics.csv')"
   ]
  },
  {
   "cell_type": "code",
   "execution_count": 127,
   "metadata": {},
   "outputs": [
    {
     "data": {
      "text/html": [
       "<div>\n",
       "<style scoped>\n",
       "    .dataframe tbody tr th:only-of-type {\n",
       "        vertical-align: middle;\n",
       "    }\n",
       "\n",
       "    .dataframe tbody tr th {\n",
       "        vertical-align: top;\n",
       "    }\n",
       "\n",
       "    .dataframe thead th {\n",
       "        text-align: right;\n",
       "    }\n",
       "</style>\n",
       "<table border=\"1\" class=\"dataframe\">\n",
       "  <thead>\n",
       "    <tr style=\"text-align: right;\">\n",
       "      <th></th>\n",
       "      <th>model</th>\n",
       "      <th>ACC</th>\n",
       "      <th>Precision</th>\n",
       "      <th>Recall</th>\n",
       "      <th>F1</th>\n",
       "      <th>ROC</th>\n",
       "      <th>Jaccard</th>\n",
       "    </tr>\n",
       "  </thead>\n",
       "  <tbody>\n",
       "    <tr>\n",
       "      <th>0</th>\n",
       "      <td>MLPClassifier</td>\n",
       "      <td>0.946875</td>\n",
       "      <td>0.788732</td>\n",
       "      <td>0.670659</td>\n",
       "      <td>0.724919</td>\n",
       "      <td>0.824862</td>\n",
       "      <td>0.568528</td>\n",
       "    </tr>\n",
       "    <tr>\n",
       "      <th>1</th>\n",
       "      <td>MLPClassifier</td>\n",
       "      <td>0.920000</td>\n",
       "      <td>0.719101</td>\n",
       "      <td>0.383234</td>\n",
       "      <td>0.500000</td>\n",
       "      <td>0.682894</td>\n",
       "      <td>0.333333</td>\n",
       "    </tr>\n",
       "  </tbody>\n",
       "</table>\n",
       "</div>"
      ],
      "text/plain": [
       "           model       ACC  Precision    Recall        F1       ROC   Jaccard\n",
       "0  MLPClassifier  0.946875   0.788732  0.670659  0.724919  0.824862  0.568528\n",
       "1  MLPClassifier  0.920000   0.719101  0.383234  0.500000  0.682894  0.333333"
      ]
     },
     "execution_count": 127,
     "metadata": {},
     "output_type": "execute_result"
    }
   ],
   "source": [
    "mlp_metrics = pd.read_csv('model/model_metrics/DL_metrics.csv',sep=';').sort_values(by='Precision',ascending=False)\n",
    "mlp_metrics"
   ]
  },
  {
   "cell_type": "markdown",
   "metadata": {},
   "source": [
    "Con esta prueba **`no`** se obtienen **`resultados`** *comparativamente* **`mejores`** que con los modelos anteriormente probados. "
   ]
  },
  {
   "cell_type": "markdown",
   "metadata": {},
   "source": [
    "Se ajustan los hiperparámetros como última prueba:"
   ]
  },
  {
   "cell_type": "code",
   "execution_count": 11,
   "metadata": {},
   "outputs": [],
   "source": [
    "from sklearn.neural_network import MLPClassifier"
   ]
  },
  {
   "cell_type": "code",
   "execution_count": 12,
   "metadata": {},
   "outputs": [],
   "source": [
    "params_mlp = {\n",
    "    'activation': ['relu','logistic'],\n",
    "    'early_stopping': [False,True],\n",
    "    'hidden_layer_sizes': [(100,),(128,62),(32,)],\n",
    "    'learning_rate': ['constant','invscaling','adaptive'],\n",
    "    'learning_rate_init': [0.001,0.0005,0.0001],\n",
    "    'max_fun': [15000,10000,20000],\n",
    "    'max_iter': [200,250,100,300],\n",
    "    'momentum': [0.9,0.8,0.7],\n",
    "    'solver': ['adam','lbfgs','sgd']\n",
    " }\n",
    "\n",
    "\n",
    "models_generator(df,'is_safe',MLPClassifier(),params_mlp,\n",
    "file_name ='DL_metrics.csv',dir_file='model/model_metrics',dir_model_file='model',scaling=False,\n",
    "scoring = { \"AUC\": \"roc_auc\",\"Accuracy\": make_scorer(accuracy_score),'Precision': make_scorer(precision_score)})"
   ]
  },
  {
   "cell_type": "markdown",
   "metadata": {},
   "source": [
    "<a href='3_Resultados.ipynb'>Ver siguiente notebook</a>"
   ]
  }
 ],
 "metadata": {
  "kernelspec": {
   "display_name": "Python 3.9.12 ('the_bridge_ds')",
   "language": "python",
   "name": "python3"
  },
  "language_info": {
   "codemirror_mode": {
    "name": "ipython",
    "version": 3
   },
   "file_extension": ".py",
   "mimetype": "text/x-python",
   "name": "python",
   "nbconvert_exporter": "python",
   "pygments_lexer": "ipython3",
   "version": "3.9.12"
  },
  "orig_nbformat": 4,
  "vscode": {
   "interpreter": {
    "hash": "b2ad160f8c76d2a8caa3f2cdf61cc6d370c158f390a227c2374ae319d2175eaf"
   }
  }
 },
 "nbformat": 4,
 "nbformat_minor": 2
}
