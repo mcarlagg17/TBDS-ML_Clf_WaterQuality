{
 "cells": [
  {
   "cell_type": "markdown",
   "metadata": {},
   "source": [
    "# ***MACHINE LEARNING***\n",
    "\n",
    "## *ÍNDICE:* \n",
    "---\n",
    "0. INTRODUCCIÓN\n",
    "1. ANÁLISIS EXPLORATORIO DE DATOS (EDA)\n",
    "    - 1.1. Acondicionamiento bases de datos\n",
    "    - 1.2. Análisis visual\n",
    "    - 1.3. Análisis estadístico  \n",
    "2. **MACHINE LEARNING**\n",
    "    - [2.1. Preparación y limpieza de datos](#21)\n",
    "    - [2.2. Feature Engineering](#22)\n",
    "    - [2.3. Modelado](#23)\n",
    "3. RESULTADOS\n",
    "    - 3.1. Visualización y reporting de los resultados\n",
    "    - 3.2. Creación de un pipeline para el flujo automatizado\n",
    "---"
   ]
  },
  {
   "cell_type": "markdown",
   "metadata": {},
   "source": [
    "##  **2.1. Preparación y limpieza de datos**<a id='21'></a>"
   ]
  },
  {
   "cell_type": "code",
   "execution_count": 3,
   "metadata": {},
   "outputs": [
    {
     "data": {
      "text/html": [
       "<div>\n",
       "<style scoped>\n",
       "    .dataframe tbody tr th:only-of-type {\n",
       "        vertical-align: middle;\n",
       "    }\n",
       "\n",
       "    .dataframe tbody tr th {\n",
       "        vertical-align: top;\n",
       "    }\n",
       "\n",
       "    .dataframe thead th {\n",
       "        text-align: right;\n",
       "    }\n",
       "</style>\n",
       "<table border=\"1\" class=\"dataframe\">\n",
       "  <thead>\n",
       "    <tr style=\"text-align: right;\">\n",
       "      <th></th>\n",
       "      <th>aluminium</th>\n",
       "      <th>ammonia</th>\n",
       "      <th>arsenic</th>\n",
       "      <th>barium</th>\n",
       "      <th>cadmium</th>\n",
       "      <th>chloramine</th>\n",
       "      <th>chromium</th>\n",
       "      <th>copper</th>\n",
       "      <th>flouride</th>\n",
       "      <th>bacteria</th>\n",
       "      <th>...</th>\n",
       "      <th>lead</th>\n",
       "      <th>nitrates</th>\n",
       "      <th>nitrites</th>\n",
       "      <th>mercury</th>\n",
       "      <th>perchlorate</th>\n",
       "      <th>radium</th>\n",
       "      <th>selenium</th>\n",
       "      <th>silver</th>\n",
       "      <th>uranium</th>\n",
       "      <th>is_safe</th>\n",
       "    </tr>\n",
       "  </thead>\n",
       "  <tbody>\n",
       "    <tr>\n",
       "      <th>0</th>\n",
       "      <td>1.65</td>\n",
       "      <td>9.08</td>\n",
       "      <td>0.04</td>\n",
       "      <td>2.85</td>\n",
       "      <td>0.007</td>\n",
       "      <td>0.35</td>\n",
       "      <td>0.83</td>\n",
       "      <td>0.17</td>\n",
       "      <td>0.05</td>\n",
       "      <td>0.20</td>\n",
       "      <td>...</td>\n",
       "      <td>0.054</td>\n",
       "      <td>16.08</td>\n",
       "      <td>1.13</td>\n",
       "      <td>0.007</td>\n",
       "      <td>37.75</td>\n",
       "      <td>6.78</td>\n",
       "      <td>0.08</td>\n",
       "      <td>0.34</td>\n",
       "      <td>0.02</td>\n",
       "      <td>1</td>\n",
       "    </tr>\n",
       "    <tr>\n",
       "      <th>1</th>\n",
       "      <td>2.32</td>\n",
       "      <td>21.16</td>\n",
       "      <td>0.01</td>\n",
       "      <td>3.31</td>\n",
       "      <td>0.002</td>\n",
       "      <td>5.28</td>\n",
       "      <td>0.68</td>\n",
       "      <td>0.66</td>\n",
       "      <td>0.90</td>\n",
       "      <td>0.65</td>\n",
       "      <td>...</td>\n",
       "      <td>0.100</td>\n",
       "      <td>2.01</td>\n",
       "      <td>1.93</td>\n",
       "      <td>0.003</td>\n",
       "      <td>32.26</td>\n",
       "      <td>3.21</td>\n",
       "      <td>0.08</td>\n",
       "      <td>0.27</td>\n",
       "      <td>0.05</td>\n",
       "      <td>1</td>\n",
       "    </tr>\n",
       "    <tr>\n",
       "      <th>2</th>\n",
       "      <td>1.01</td>\n",
       "      <td>14.02</td>\n",
       "      <td>0.04</td>\n",
       "      <td>0.58</td>\n",
       "      <td>0.008</td>\n",
       "      <td>4.24</td>\n",
       "      <td>0.53</td>\n",
       "      <td>0.02</td>\n",
       "      <td>0.99</td>\n",
       "      <td>0.05</td>\n",
       "      <td>...</td>\n",
       "      <td>0.078</td>\n",
       "      <td>14.16</td>\n",
       "      <td>1.11</td>\n",
       "      <td>0.006</td>\n",
       "      <td>50.28</td>\n",
       "      <td>7.07</td>\n",
       "      <td>0.07</td>\n",
       "      <td>0.44</td>\n",
       "      <td>0.01</td>\n",
       "      <td>0</td>\n",
       "    </tr>\n",
       "    <tr>\n",
       "      <th>3</th>\n",
       "      <td>1.36</td>\n",
       "      <td>11.33</td>\n",
       "      <td>0.04</td>\n",
       "      <td>2.96</td>\n",
       "      <td>0.001</td>\n",
       "      <td>7.23</td>\n",
       "      <td>0.03</td>\n",
       "      <td>1.66</td>\n",
       "      <td>1.08</td>\n",
       "      <td>0.71</td>\n",
       "      <td>...</td>\n",
       "      <td>0.016</td>\n",
       "      <td>1.41</td>\n",
       "      <td>1.29</td>\n",
       "      <td>0.004</td>\n",
       "      <td>9.12</td>\n",
       "      <td>1.72</td>\n",
       "      <td>0.02</td>\n",
       "      <td>0.45</td>\n",
       "      <td>0.05</td>\n",
       "      <td>1</td>\n",
       "    </tr>\n",
       "    <tr>\n",
       "      <th>4</th>\n",
       "      <td>0.92</td>\n",
       "      <td>24.33</td>\n",
       "      <td>0.03</td>\n",
       "      <td>0.20</td>\n",
       "      <td>0.006</td>\n",
       "      <td>2.67</td>\n",
       "      <td>0.69</td>\n",
       "      <td>0.57</td>\n",
       "      <td>0.61</td>\n",
       "      <td>0.13</td>\n",
       "      <td>...</td>\n",
       "      <td>0.117</td>\n",
       "      <td>6.74</td>\n",
       "      <td>1.11</td>\n",
       "      <td>0.003</td>\n",
       "      <td>16.90</td>\n",
       "      <td>2.41</td>\n",
       "      <td>0.02</td>\n",
       "      <td>0.06</td>\n",
       "      <td>0.02</td>\n",
       "      <td>1</td>\n",
       "    </tr>\n",
       "  </tbody>\n",
       "</table>\n",
       "<p>5 rows × 21 columns</p>\n",
       "</div>"
      ],
      "text/plain": [
       "   aluminium ammonia  arsenic  barium  cadmium  chloramine  chromium  copper  \\\n",
       "0       1.65    9.08     0.04    2.85    0.007        0.35      0.83    0.17   \n",
       "1       2.32   21.16     0.01    3.31    0.002        5.28      0.68    0.66   \n",
       "2       1.01   14.02     0.04    0.58    0.008        4.24      0.53    0.02   \n",
       "3       1.36   11.33     0.04    2.96    0.001        7.23      0.03    1.66   \n",
       "4       0.92   24.33     0.03    0.20    0.006        2.67      0.69    0.57   \n",
       "\n",
       "   flouride  bacteria  ...   lead  nitrates  nitrites  mercury  perchlorate  \\\n",
       "0      0.05      0.20  ...  0.054     16.08      1.13    0.007        37.75   \n",
       "1      0.90      0.65  ...  0.100      2.01      1.93    0.003        32.26   \n",
       "2      0.99      0.05  ...  0.078     14.16      1.11    0.006        50.28   \n",
       "3      1.08      0.71  ...  0.016      1.41      1.29    0.004         9.12   \n",
       "4      0.61      0.13  ...  0.117      6.74      1.11    0.003        16.90   \n",
       "\n",
       "   radium  selenium  silver  uranium  is_safe  \n",
       "0    6.78      0.08    0.34     0.02        1  \n",
       "1    3.21      0.08    0.27     0.05        1  \n",
       "2    7.07      0.07    0.44     0.01        0  \n",
       "3    1.72      0.02    0.45     0.05        1  \n",
       "4    2.41      0.02    0.06     0.02        1  \n",
       "\n",
       "[5 rows x 21 columns]"
      ]
     },
     "execution_count": 3,
     "metadata": {},
     "output_type": "execute_result"
    }
   ],
   "source": [
    "# Librery\n",
    "from utils.libreries import *\n",
    "\n",
    "%matplotlib inline \n",
    "# Read all csv \n",
    "\n",
    "preroot=os.getcwd()\n",
    "df=pd.read_csv(preroot+'/data/raw/waterQuality.csv')\n",
    "df.head()"
   ]
  },
  {
   "cell_type": "code",
   "execution_count": 4,
   "metadata": {},
   "outputs": [
    {
     "name": "stdout",
     "output_type": "stream",
     "text": [
      "<class 'pandas.core.frame.DataFrame'>\n",
      "RangeIndex: 7999 entries, 0 to 7998\n",
      "Data columns (total 21 columns):\n",
      " #   Column       Non-Null Count  Dtype  \n",
      "---  ------       --------------  -----  \n",
      " 0   aluminium    7999 non-null   float64\n",
      " 1   ammonia      7999 non-null   object \n",
      " 2   arsenic      7999 non-null   float64\n",
      " 3   barium       7999 non-null   float64\n",
      " 4   cadmium      7999 non-null   float64\n",
      " 5   chloramine   7999 non-null   float64\n",
      " 6   chromium     7999 non-null   float64\n",
      " 7   copper       7999 non-null   float64\n",
      " 8   flouride     7999 non-null   float64\n",
      " 9   bacteria     7999 non-null   float64\n",
      " 10  viruses      7999 non-null   float64\n",
      " 11  lead         7999 non-null   float64\n",
      " 12  nitrates     7999 non-null   float64\n",
      " 13  nitrites     7999 non-null   float64\n",
      " 14  mercury      7999 non-null   float64\n",
      " 15  perchlorate  7999 non-null   float64\n",
      " 16  radium       7999 non-null   float64\n",
      " 17  selenium     7999 non-null   float64\n",
      " 18  silver       7999 non-null   float64\n",
      " 19  uranium      7999 non-null   float64\n",
      " 20  is_safe      7999 non-null   object \n",
      "dtypes: float64(19), object(2)\n",
      "memory usage: 1.3+ MB\n"
     ]
    }
   ],
   "source": [
    "df.info()"
   ]
  },
  {
   "cell_type": "code",
   "execution_count": 5,
   "metadata": {},
   "outputs": [],
   "source": [
    "# Transform all object columns to numeric:\n",
    "df.ammonia=[float(i) if (i!='#NUM!') else np.nan for i in df.ammonia]\n",
    "df.is_safe=[int(i) if (i!='#NUM!') else np.nan for i in df.is_safe]"
   ]
  },
  {
   "cell_type": "code",
   "execution_count": 6,
   "metadata": {},
   "outputs": [
    {
     "data": {
      "text/plain": [
       "aluminium      0.000000\n",
       "ammonia        0.037505\n",
       "arsenic        0.000000\n",
       "barium         0.000000\n",
       "cadmium        0.000000\n",
       "chloramine     0.000000\n",
       "chromium       0.000000\n",
       "copper         0.000000\n",
       "flouride       0.000000\n",
       "bacteria       0.000000\n",
       "viruses        0.000000\n",
       "lead           0.000000\n",
       "nitrates       0.000000\n",
       "nitrites       0.000000\n",
       "mercury        0.000000\n",
       "perchlorate    0.000000\n",
       "radium         0.000000\n",
       "selenium       0.000000\n",
       "silver         0.000000\n",
       "uranium        0.000000\n",
       "is_safe        0.037505\n",
       "dtype: float64"
      ]
     },
     "execution_count": 6,
     "metadata": {},
     "output_type": "execute_result"
    }
   ],
   "source": [
    "df.isna().sum()*100/len(df)"
   ]
  },
  {
   "cell_type": "code",
   "execution_count": 7,
   "metadata": {},
   "outputs": [
    {
     "name": "stdout",
     "output_type": "stream",
     "text": [
      "<class 'pandas.core.frame.DataFrame'>\n",
      "Int64Index: 7996 entries, 0 to 7998\n",
      "Data columns (total 21 columns):\n",
      " #   Column       Non-Null Count  Dtype  \n",
      "---  ------       --------------  -----  \n",
      " 0   aluminium    7996 non-null   float64\n",
      " 1   ammonia      7996 non-null   float64\n",
      " 2   arsenic      7996 non-null   float64\n",
      " 3   barium       7996 non-null   float64\n",
      " 4   cadmium      7996 non-null   float64\n",
      " 5   chloramine   7996 non-null   float64\n",
      " 6   chromium     7996 non-null   float64\n",
      " 7   copper       7996 non-null   float64\n",
      " 8   flouride     7996 non-null   float64\n",
      " 9   bacteria     7996 non-null   float64\n",
      " 10  viruses      7996 non-null   float64\n",
      " 11  lead         7996 non-null   float64\n",
      " 12  nitrates     7996 non-null   float64\n",
      " 13  nitrites     7996 non-null   float64\n",
      " 14  mercury      7996 non-null   float64\n",
      " 15  perchlorate  7996 non-null   float64\n",
      " 16  radium       7996 non-null   float64\n",
      " 17  selenium     7996 non-null   float64\n",
      " 18  silver       7996 non-null   float64\n",
      " 19  uranium      7996 non-null   float64\n",
      " 20  is_safe      7996 non-null   float64\n",
      "dtypes: float64(21)\n",
      "memory usage: 1.3 MB\n"
     ]
    }
   ],
   "source": [
    "df.dropna(inplace=True)\n",
    "df.info()"
   ]
  },
  {
   "cell_type": "markdown",
   "metadata": {},
   "source": [
    "##  **2.2. Feature Engineering**<a id='22'></a>"
   ]
  },
  {
   "cell_type": "code",
   "execution_count": 6,
   "metadata": {},
   "outputs": [
    {
     "data": {
      "image/png": "[encoded data removed]",
      "text/plain": [
       "<Figure size 1080x576 with 1 Axes>"
      ]
     },
     "metadata": {},
     "output_type": "display_data"
    }
   ],
   "source": [
    "sns.set(rc={'figure.figsize':(15, 8)})\n",
    "colors = sns.color_palette(\"Blues\")\n",
    "\n",
    "labels = df.is_safe.value_counts().index\n",
    "sizes = df.is_safe.value_counts()\n",
    "explode = (0, 0.1)  \n",
    "\n",
    "fig1, ax1 = plt.subplots()\n",
    "ax1.pie(sizes, explode=explode, labels=labels,colors=colors, autopct='%1.1f%%',\n",
    "        shadow=True, startangle=90)\n",
    "ax1.axis('equal') \n",
    "plt.show()"
   ]
  },
  {
   "cell_type": "code",
   "execution_count": 7,
   "metadata": {},
   "outputs": [
    {
     "data": {
      "text/plain": [
       "<AxesSubplot:xlabel='is_safe', ylabel='count'>"
      ]
     },
     "execution_count": 7,
     "metadata": {},
     "output_type": "execute_result"
    },
    {
     "data": {
      "image/png": "[encoded data removed]",
      "text/plain": [
       "<Figure size 1080x576 with 1 Axes>"
      ]
     },
     "metadata": {},
     "output_type": "display_data"
    }
   ],
   "source": [
    "sns.set(rc={'figure.figsize':(15, 8)})\n",
    "sns.countplot(x='is_safe',data=df,palette=\"coolwarm\")"
   ]
  },
  {
   "cell_type": "markdown",
   "metadata": {},
   "source": [
    "**Observaciones:**\n",
    "\n",
    "- Dataset desbalanceado\n",
    "\n",
    "**Propuestas:**\n",
    "\n",
    "Al tener un dataset desbalanceado se buscan una serie de opciones, en este caso, suponiendo que no se puedan obtener más datos que equilibren nuestro dataset se plantean las siguientes opciones.\n",
    "- Opciones para *balancear la data*:\n",
    "\n",
    "    - Oversampling.\n",
    "    - Undersampling.\n",
    "    - Métodos mixtos.\n",
    "\n",
    "Se puede apreciar visualmente a continuación: \n",
    "\n",
    "<img src=\"https://miro.medium.com/max/1400/1*o_KfyMzF7LITK2DlYm_wHw.png\" alt=\"drawing\" width=\"450x500\"/>\n",
    "<img src=\"https://miro.medium.com/max/1400/1*gHW_PLz7kWrhdl5t1sJRRA.png\" alt=\"drawing\" width=\"450x500\"/>\n",
    "  "
   ]
  },
  {
   "cell_type": "markdown",
   "metadata": {},
   "source": [
    "En este notebook se pretende tratar los datos para mejorar los modelos que se han comprobado mejores en el notebook anterior `2a_ML_Baseline.ipynb`. \n",
    "\n",
    "Se crean dos dataset procesados:\n",
    "1. Se seleccionan las variables indepedientes más influyentes mediante los métodos no supervisado de **PCA** y **RFE**.\n",
    "2. Se balancean las variables utilizando el método de resampling: \n",
    "\n",
    "    2.1. Oversampling : **SMOTE**\n",
    "\n",
    "    2.2. Combinación de under y oversampling: **SMOTEENN**\n",
    "    \n",
    "    2.3. Selección del método que se considere mejor."
   ]
  },
  {
   "cell_type": "markdown",
   "metadata": {},
   "source": [
    "***Features selection:***\n",
    "\n",
    "---"
   ]
  },
  {
   "cell_type": "code",
   "execution_count": null,
   "metadata": {},
   "outputs": [],
   "source": []
  },
  {
   "cell_type": "markdown",
   "metadata": {},
   "source": [
    "***Balancing data:***\n",
    "\n",
    "---"
   ]
  },
  {
   "cell_type": "code",
   "execution_count": 12,
   "metadata": {},
   "outputs": [],
   "source": [
    "data = df.copy()\n",
    "target = 'is_safe'\n",
    "X = data.drop([target], axis=1)\n",
    "\n",
    "y = data[target].copy()\n",
    "\n",
    "X_train, X_test, y_train, y_test = train_test_split(X, y, test_size = 0.2, random_state = 77)"
   ]
  },
  {
   "cell_type": "code",
   "execution_count": 17,
   "metadata": {},
   "outputs": [
    {
     "name": "stdout",
     "output_type": "stream",
     "text": [
      "Before OverSampling, the shape of train_X: (6396, 20)\n",
      "Before OverSampling, the shape of train_y: (6396,) \n",
      "\n"
     ]
    }
   ],
   "source": [
    "print('Before OverSampling, the shape of train_X: {}'.format(X_train.shape)) \n",
    "print('Before OverSampling, the shape of train_y: {} \\n'.format(y_train.shape)) "
   ]
  },
  {
   "cell_type": "code",
   "execution_count": 18,
   "metadata": {},
   "outputs": [],
   "source": [
    "from imblearn.over_sampling import SMOTE\n",
    "from imblearn.combine import SMOTEENN, SMOTETomek\n",
    "\n",
    "\n",
    "# Apply Oversampling\n",
    "sm = SMOTE(random_state = 77) \n",
    "X_train_SMOTE, y_train_SMOTE = sm.fit_resample(X_train, y_train.ravel()) \n",
    "\n"
   ]
  },
  {
   "cell_type": "code",
   "execution_count": 19,
   "metadata": {},
   "outputs": [
    {
     "data": {
      "text/plain": [
       "<AxesSubplot:ylabel='count'>"
      ]
     },
     "execution_count": 19,
     "metadata": {},
     "output_type": "execute_result"
    },
    {
     "data": {
      "image/png": "[encoded data removed]",
      "text/plain": [
       "<Figure size 432x288 with 1 Axes>"
      ]
     },
     "metadata": {
      "needs_background": "light"
     },
     "output_type": "display_data"
    }
   ],
   "source": [
    "sns.countplot(x=y_train_SMOTE,palette='Blues')"
   ]
  },
  {
   "cell_type": "code",
   "execution_count": 32,
   "metadata": {},
   "outputs": [
    {
     "data": {
      "image/png": "[encoded data removed]",
      "text/plain": [
       "<Figure size 1080x576 with 1 Axes>"
      ]
     },
     "metadata": {},
     "output_type": "display_data"
    }
   ],
   "source": [
    "sns.set(rc={'figure.figsize':(15, 8)})\n",
    "colors = sns.color_palette(\"Blues\")\n",
    "\n",
    "labels = ['Safe: 1','Not safe: 0']\n",
    "sizes =  [y_train_SMOTE.sum(),len(y_train_SMOTE)-y_train_SMOTE.sum()]\n",
    "explode = (0, 0.1)  \n",
    "\n",
    "fig1, ax1 = plt.subplots()\n",
    "ax1.pie(sizes, explode=explode, labels=labels,colors=colors, autopct='%1.1f%%',\n",
    "        shadow=True, startangle=90)\n",
    "ax1.axis('equal') \n",
    "plt.show()"
   ]
  },
  {
   "cell_type": "code",
   "execution_count": 33,
   "metadata": {},
   "outputs": [
    {
     "name": "stdout",
     "output_type": "stream",
     "text": [
      "After OverSampling, the shape of train_X: (11302, 20)\n",
      "After OverSampling, the shape of train_y: (11302,) \n",
      "\n"
     ]
    }
   ],
   "source": [
    "print('After OverSampling, the shape of train_X: {}'.format(X_train_SMOTE.shape)) \n",
    "print('After OverSampling, the shape of train_y: {} \\n'.format(y_train_SMOTE.shape)) "
   ]
  },
  {
   "cell_type": "code",
   "execution_count": 21,
   "metadata": {},
   "outputs": [],
   "source": [
    "# Apply Combining\n",
    "sm = SMOTEENN(random_state = 77) \n",
    "X_train_SMOTEENN, y_train_SMOTEENN = sm.fit_resample(X_train, y_train.ravel()) "
   ]
  },
  {
   "cell_type": "code",
   "execution_count": 22,
   "metadata": {},
   "outputs": [
    {
     "data": {
      "text/plain": [
       "<AxesSubplot:ylabel='count'>"
      ]
     },
     "execution_count": 22,
     "metadata": {},
     "output_type": "execute_result"
    },
    {
     "data": {
      "image/png": "[encoded data removed]",
      "text/plain": [
       "<Figure size 432x288 with 1 Axes>"
      ]
     },
     "metadata": {
      "needs_background": "light"
     },
     "output_type": "display_data"
    }
   ],
   "source": [
    "sns.countplot(x=y_train_SMOTEENN,palette='Blues')"
   ]
  },
  {
   "cell_type": "code",
   "execution_count": 31,
   "metadata": {},
   "outputs": [
    {
     "data": {
      "image/png": "[encoded data removed]",
      "text/plain": [
       "<Figure size 1080x576 with 1 Axes>"
      ]
     },
     "metadata": {},
     "output_type": "display_data"
    }
   ],
   "source": [
    "sns.set(rc={'figure.figsize':(15, 8)})\n",
    "colors = sns.color_palette(\"Blues\")\n",
    "\n",
    "labels = ['Safe: 1','Not safe: 0']\n",
    "sizes =  [y_train_SMOTEENN.sum(),len(y_train_SMOTEENN)-y_train_SMOTEENN.sum()]\n",
    "explode = (0, 0.1)  \n",
    "\n",
    "fig1, ax1 = plt.subplots()\n",
    "ax1.pie(sizes, explode=explode, labels=labels,colors=colors, autopct='%1.1f%%',\n",
    "        shadow=True, startangle=90)\n",
    "ax1.axis('equal') \n",
    "plt.show()"
   ]
  },
  {
   "cell_type": "code",
   "execution_count": 34,
   "metadata": {},
   "outputs": [
    {
     "name": "stdout",
     "output_type": "stream",
     "text": [
      "After OverSampling, the shape of train_X: (8965, 20)\n",
      "After OverSampling, the shape of train_y: (8965,) \n",
      "\n"
     ]
    }
   ],
   "source": [
    "print('After OverSampling, the shape of train_X: {}'.format(X_train_SMOTEENN.shape)) \n",
    "print('After OverSampling, the shape of train_y: {} \\n'.format(y_train_SMOTEENN.shape)) "
   ]
  },
  {
   "cell_type": "markdown",
   "metadata": {},
   "source": [
    "##  **2.3. Modelado**<a id='23'></a>"
   ]
  },
  {
   "cell_type": "markdown",
   "metadata": {},
   "source": [
    "## Baseline:\n",
    "\n",
    "Con este apartado se pretende hacer una `prueba de contacto` con los modelos ***sin tratar los datos apenas***, ***sin buscar los hiperparámetros que mejor ajusten*** y ***sin balancear el dataset***. Simplemente para tener una noción del punto de partida y las diferencias sustanciales de cada modelo, aunque esto pueda cambiar con las modificaciones que se desarrollan posteriormente."
   ]
  },
  {
   "cell_type": "markdown",
   "metadata": {},
   "source": [
    "## Ajuste de hiperparámetros:\n",
    "\n",
    "Con este apartado se pretende `mejorar estimadores` realizando el ***ajuste de hiperparámetros***.  \n",
    "\n",
    "Estos estimadores se obtienen de intoducir todas las variables y sin haberle realizado modificaciones significativas a sus datos: ***falta tratar los datos*** y ***balancear el dataset***. \n",
    "\n",
    "En algunos casos se puede observar que mejora el estimador significativamente con respecto a la prueba anterior sin modificar sus hiperparámetros."
   ]
  },
  {
   "cell_type": "code",
   "execution_count": 8,
   "metadata": {},
   "outputs": [
    {
     "data": {
      "text/plain": [
       "['SVC', 'XGBC']"
      ]
     },
     "execution_count": 8,
     "metadata": {},
     "output_type": "execute_result"
    }
   ],
   "source": [
    "models_names = list(choose_models('all',params=None).keys())\n",
    "#mods = models_names\n",
    "mods = models_names[8:10]\n",
    "mods"
   ]
  },
  {
   "cell_type": "code",
   "execution_count": 7,
   "metadata": {},
   "outputs": [],
   "source": [
    "models_names = list(choose_models('all',params=None).keys())\n",
    "#mods = models_names\n",
    "mods = models_names[8:10]\n",
    "\n",
    "for mod in mods:    \n",
    "    models_generator(df,'is_safe',choose_models(mod,params=None),choose_params(mod),\n",
    "    file_name='metrics.csv',dir_file='model/model_metrics',dir_model_file='model',scaling=False,\n",
    "    scoring = { \"AUC\": \"roc_auc\",\"Accuracy\": make_scorer(accuracy_score)})"
   ]
  },
  {
   "cell_type": "code",
   "execution_count": 9,
   "metadata": {},
   "outputs": [
    {
     "name": "stdout",
     "output_type": "stream",
     "text": [
      "{'model': 'BaggingClassifier', 'params_tried': \"{'base_estimator': [DecisionTreeClassifier(class_weight='balanced', max_depth=7,\\n                       max_features='log2')], 'n_estimators': [10, 20, 30], 'max_samples': [0.05, 0.1, 0.2, 0.5]}\", 'best_params': \"{'base_estimator': DecisionTreeClassifier(class_weight='balanced', max_depth=7,\\n                       max_features='log2'), 'max_samples': 0.5, 'n_estimators': 20}\", 'ACC': 0.91625, 'Precision': 0.5627376425855514, 'Recall': 0.8862275449101796, 'F1': 0.6883720930232559, 'ROC': 0.9029881618479718, 'Jaccard': 0.524822695035461}\n",
      "Model BaggingClassifier saved\n",
      "Saved\n"
     ]
    },
    {
     "data": {
      "text/plain": [
       "{'trained_model': GridSearchCV(estimator=BaggingClassifier(),\n",
       "              param_grid={'base_estimator': [DecisionTreeClassifier(class_weight='balanced',\n",
       "                                                                    max_depth=7,\n",
       "                                                                    max_features='log2')],\n",
       "                          'max_samples': [0.05, 0.1, 0.2, 0.5],\n",
       "                          'n_estimators': [10, 20, 30]},\n",
       "              refit='AUC', return_train_score=True,\n",
       "              scoring={'AUC': 'roc_auc', 'Accuracy': make_scorer(accuracy_score),\n",
       "                       'Precision': make_scorer(precision_score)}),\n",
       " 'Xytest': [      aluminium  ammonia  arsenic  barium  cadmium  chloramine  chromium  \\\n",
       "  1461       4.44    15.36    0.190    1.34    0.030        4.03      0.19   \n",
       "  5419       0.09    22.30    0.040    0.90    0.030        0.22      0.05   \n",
       "  670        0.34    20.63    0.010    0.76    0.006        4.93      0.42   \n",
       "  4583       0.02     0.64    0.100    0.87    0.080        0.06      0.04   \n",
       "  6391       0.09    16.43    0.010    0.38    0.020        0.07      0.03   \n",
       "  ...         ...      ...      ...     ...      ...         ...       ...   \n",
       "  7773       0.01     6.07    0.050    0.70    0.070        0.02      0.09   \n",
       "  2043       0.08    28.19    0.001    0.25    0.001        3.58      0.68   \n",
       "  3673       0.05     6.13    1.030    3.66    0.050        5.53      0.65   \n",
       "  7687       0.10    14.72    0.040    0.96    0.070        0.06      0.07   \n",
       "  2013       0.06    23.98    0.040    3.05    0.008        0.70      0.51   \n",
       "  \n",
       "        copper  flouride  bacteria  viruses   lead  nitrates  nitrites  mercury  \\\n",
       "  1461    0.28      1.16      0.00    0.850  0.005     11.54      1.53    0.005   \n",
       "  5419    0.98      0.27      0.00    0.005  0.012      9.23      0.39    0.004   \n",
       "  670     0.61      1.26      0.42    0.005  0.162      0.49      1.45    0.008   \n",
       "  4583    0.06      1.46      0.00    0.880  0.088     16.91      0.57    0.006   \n",
       "  6391    0.31      0.74      0.55    0.550  0.093      7.85      1.78    0.009   \n",
       "  ...      ...       ...       ...      ...    ...       ...       ...      ...   \n",
       "  7773    0.04      0.08      0.00    0.000  0.022     12.47      2.02    0.009   \n",
       "  2043    1.29      1.04      0.49    0.001  0.079     15.05      1.09    0.005   \n",
       "  3673    0.03      1.18      0.56    0.560  0.001     16.75      2.07    0.003   \n",
       "  7687    0.70      0.85      0.00    0.000  0.124     13.82      1.11    0.001   \n",
       "  2013    1.35      1.07      0.70    0.700  0.101      1.16      1.11    0.008   \n",
       "  \n",
       "        perchlorate  radium  selenium  silver  uranium  \n",
       "  1461         8.87    1.46      0.09    0.23     0.08  \n",
       "  5419         1.44    0.84      0.07    0.01     0.08  \n",
       "  670         50.59    3.04      0.05    0.37     0.05  \n",
       "  4583         0.38    0.04      0.04    0.07     0.05  \n",
       "  6391         4.04    1.70      0.09    0.02     0.05  \n",
       "  ...           ...     ...       ...     ...      ...  \n",
       "  7773         2.81    5.84      0.05    0.02     0.07  \n",
       "  2043        23.68    3.39      0.01    0.20     0.03  \n",
       "  3673         2.05    7.56      0.01    0.41     0.06  \n",
       "  7687         0.60    0.57      0.08    0.00     0.05  \n",
       "  2013        26.80    5.58      0.09    0.38     0.03  \n",
       "  \n",
       "  [1600 rows x 20 columns],\n",
       "  1461    0.0\n",
       "  5419    1.0\n",
       "  670     0.0\n",
       "  4583    0.0\n",
       "  6391    0.0\n",
       "         ... \n",
       "  7773    0.0\n",
       "  2043    0.0\n",
       "  3673    0.0\n",
       "  7687    0.0\n",
       "  2013    0.0\n",
       "  Name: is_safe, Length: 1600, dtype: float64],\n",
       " 'Xytrain': [      aluminium  ammonia  arsenic  barium  cadmium  chloramine  chromium  \\\n",
       "  996        2.26    27.01     0.01    3.84    0.006        5.22      0.79   \n",
       "  4890       0.01     0.42     0.03    0.90    0.070        0.02      0.01   \n",
       "  2570       0.01    19.74     0.04    2.88    0.004        6.00      0.78   \n",
       "  6579       0.07    15.97     0.03    0.78    0.040        0.40      0.08   \n",
       "  595        1.92    23.86     0.05    0.39    0.008        1.58      0.42   \n",
       "  ...         ...      ...      ...     ...      ...         ...       ...   \n",
       "  2283       0.02     2.59     0.04    3.81    0.003        1.63      0.58   \n",
       "  2004       0.09    24.33     0.03    0.20    0.006        2.67      0.69   \n",
       "  3668       0.01    29.40     0.09    2.53    0.030        5.11      0.04   \n",
       "  607        3.61    18.91     0.02    2.11    0.009        6.53      0.38   \n",
       "  6871       0.08    27.15     0.05    1.65    0.070        0.01      0.04   \n",
       "  \n",
       "        copper  flouride  bacteria  viruses   lead  nitrates  nitrites  mercury  \\\n",
       "  996     1.97      1.48      0.00    0.000  0.031      9.52      1.43    0.001   \n",
       "  4890    0.06      0.72      0.00    0.570  0.088      9.41      0.88    0.009   \n",
       "  2570    1.92      0.29      0.02    0.007  0.192     13.30      1.44    0.007   \n",
       "  6579    1.33      0.35      0.89    0.890  0.165      2.73      1.32    0.007   \n",
       "  595     1.56      1.07      0.19    0.000  0.103      2.06      1.70    0.008   \n",
       "  ...      ...       ...       ...      ...    ...       ...       ...      ...   \n",
       "  2283    1.35      1.06      0.22    0.007  0.069     11.78      1.55    0.005   \n",
       "  2004    0.57      0.61      0.13    0.001  0.117      6.74      1.11    0.003   \n",
       "  3668    0.08      0.55      0.14    0.006  0.001     12.25      1.61    0.008   \n",
       "  607     0.67      1.26      0.38    0.007  0.105     18.85      1.67    0.000   \n",
       "  6871    1.24      0.66      0.68    0.680  0.182      2.19      1.20    0.009   \n",
       "  \n",
       "        perchlorate  radium  selenium  silver  uranium  \n",
       "  996         16.06    1.11      0.09    0.14     0.08  \n",
       "  4890         7.54    3.24      0.03    0.06     0.02  \n",
       "  2570         6.39    1.27      0.05    0.11     0.06  \n",
       "  6579        13.14    4.04      0.09    0.09     0.08  \n",
       "  595         24.53    2.88      0.03    0.46     0.00  \n",
       "  ...           ...     ...       ...     ...      ...  \n",
       "  2283        32.91    2.78      0.07    0.16     0.03  \n",
       "  2004        16.90    2.41      0.02    0.06     0.02  \n",
       "  3668        28.81    7.40      0.03    0.05     0.07  \n",
       "  607          3.13    2.22      0.08    0.46     0.02  \n",
       "  6871         0.17    0.61      0.01    0.04     0.07  \n",
       "  \n",
       "  [6396 rows x 20 columns],\n",
       "  996     1.0\n",
       "  4890    0.0\n",
       "  2570    0.0\n",
       "  6579    0.0\n",
       "  595     1.0\n",
       "         ... \n",
       "  2283    0.0\n",
       "  2004    1.0\n",
       "  3668    0.0\n",
       "  607     1.0\n",
       "  6871    0.0\n",
       "  Name: is_safe, Length: 6396, dtype: float64],\n",
       " 'ypred': array([0., 0., 0., ..., 0., 0., 1.]),\n",
       " 'metrics': {'ACC': 0.91625,\n",
       "  'Precision': 0.5627376425855514,\n",
       "  'Recall': 0.8862275449101796,\n",
       "  'F1': 0.6883720930232559,\n",
       "  'ROC': 0.9029881618479718,\n",
       "  'Jaccard': 0.524822695035461}}"
      ]
     },
     "execution_count": 9,
     "metadata": {},
     "output_type": "execute_result"
    }
   ],
   "source": [
    "models_names = list(choose_models('all',params=None).keys())\n",
    "#mods = models_names\n",
    "mods = models_names[5]\n",
    "\n",
    "\n",
    "models_generator(df,'is_safe',choose_models(mods,params=None),choose_params(mods),\n",
    "file_name ='metrics.csv',dir_file='model/model_metrics',dir_model_file='model',scaling=False,\n",
    "scoring = { \"AUC\": \"roc_auc\",\"Accuracy\": make_scorer(accuracy_score),'Precision': make_scorer(precision_score)})"
   ]
  },
  {
   "cell_type": "code",
   "execution_count": 11,
   "metadata": {},
   "outputs": [
    {
     "data": {
      "text/html": [
       "<div>\n",
       "<style scoped>\n",
       "    .dataframe tbody tr th:only-of-type {\n",
       "        vertical-align: middle;\n",
       "    }\n",
       "\n",
       "    .dataframe tbody tr th {\n",
       "        vertical-align: top;\n",
       "    }\n",
       "\n",
       "    .dataframe thead th {\n",
       "        text-align: right;\n",
       "    }\n",
       "</style>\n",
       "<table border=\"1\" class=\"dataframe\">\n",
       "  <thead>\n",
       "    <tr style=\"text-align: right;\">\n",
       "      <th></th>\n",
       "      <th>model</th>\n",
       "      <th>params_tried</th>\n",
       "      <th>best_params</th>\n",
       "      <th>ACC</th>\n",
       "      <th>Precision</th>\n",
       "      <th>Recall</th>\n",
       "      <th>F1</th>\n",
       "      <th>ROC</th>\n",
       "      <th>Jaccard</th>\n",
       "      <th>model_path</th>\n",
       "    </tr>\n",
       "  </thead>\n",
       "  <tbody>\n",
       "    <tr>\n",
       "      <th>4</th>\n",
       "      <td>RandomForestClassifier</td>\n",
       "      <td>{'n_estimators': array([ 10,  25,  41,  56,  7...</td>\n",
       "      <td>{'class_weight': None, 'criterion': 'entropy',...</td>\n",
       "      <td>0.972500</td>\n",
       "      <td>0.912752</td>\n",
       "      <td>0.814371</td>\n",
       "      <td>0.860759</td>\n",
       "      <td>0.902650</td>\n",
       "      <td>0.755556</td>\n",
       "      <td>model/RandomForestClassifier.pkl</td>\n",
       "    </tr>\n",
       "    <tr>\n",
       "      <th>1</th>\n",
       "      <td>KNeighborsClassifier</td>\n",
       "      <td>{'n_neighbors': [3, 5, 7, 9, 11, 13, 15], 'wei...</td>\n",
       "      <td>{'algorithm': 'ball_tree', 'leaf_size': 20, 'n...</td>\n",
       "      <td>0.899375</td>\n",
       "      <td>0.615385</td>\n",
       "      <td>0.095808</td>\n",
       "      <td>0.165803</td>\n",
       "      <td>0.544415</td>\n",
       "      <td>0.090395</td>\n",
       "      <td>model/KNeighborsClassifier.pkl</td>\n",
       "    </tr>\n",
       "    <tr>\n",
       "      <th>5</th>\n",
       "      <td>BaggingClassifier</td>\n",
       "      <td>{'base_estimator': [DecisionTreeClassifier(cla...</td>\n",
       "      <td>{'base_estimator': DecisionTreeClassifier(clas...</td>\n",
       "      <td>0.916250</td>\n",
       "      <td>0.562738</td>\n",
       "      <td>0.886228</td>\n",
       "      <td>0.688372</td>\n",
       "      <td>0.902988</td>\n",
       "      <td>0.524823</td>\n",
       "      <td>model/BaggingClassifier.pkl</td>\n",
       "    </tr>\n",
       "    <tr>\n",
       "      <th>2</th>\n",
       "      <td>DecisionTreeClassifier</td>\n",
       "      <td>{'criterion': ['log_loss', 'gini', 'entropy'],...</td>\n",
       "      <td>{'class_weight': 'balanced', 'criterion': 'gin...</td>\n",
       "      <td>0.912500</td>\n",
       "      <td>0.554217</td>\n",
       "      <td>0.826347</td>\n",
       "      <td>0.663462</td>\n",
       "      <td>0.874444</td>\n",
       "      <td>0.496403</td>\n",
       "      <td>model/DecisionTreeClassifier.pkl</td>\n",
       "    </tr>\n",
       "    <tr>\n",
       "      <th>3</th>\n",
       "      <td>ExtraTreeClassifier</td>\n",
       "      <td>{'criterion': ['gini', 'entropy'], 'max_depth'...</td>\n",
       "      <td>{'class_weight': 'balanced', 'criterion': 'gin...</td>\n",
       "      <td>0.836875</td>\n",
       "      <td>0.385366</td>\n",
       "      <td>0.946108</td>\n",
       "      <td>0.547660</td>\n",
       "      <td>0.885126</td>\n",
       "      <td>0.377088</td>\n",
       "      <td>model/ExtraTreeClassifier.pkl</td>\n",
       "    </tr>\n",
       "    <tr>\n",
       "      <th>0</th>\n",
       "      <td>LogisticRegression</td>\n",
       "      <td>{'penalty': ['l1', 'l2', 'elasticnet', 'none']...</td>\n",
       "      <td>{'class_weight': 'balanced', 'max_iter': 50, '...</td>\n",
       "      <td>0.795625</td>\n",
       "      <td>0.304878</td>\n",
       "      <td>0.748503</td>\n",
       "      <td>0.433276</td>\n",
       "      <td>0.774810</td>\n",
       "      <td>0.276549</td>\n",
       "      <td>model/LogisticRegression_1.pkl</td>\n",
       "    </tr>\n",
       "  </tbody>\n",
       "</table>\n",
       "</div>"
      ],
      "text/plain": [
       "                    model                                       params_tried  \\\n",
       "4  RandomForestClassifier  {'n_estimators': array([ 10,  25,  41,  56,  7...   \n",
       "1    KNeighborsClassifier  {'n_neighbors': [3, 5, 7, 9, 11, 13, 15], 'wei...   \n",
       "5       BaggingClassifier  {'base_estimator': [DecisionTreeClassifier(cla...   \n",
       "2  DecisionTreeClassifier  {'criterion': ['log_loss', 'gini', 'entropy'],...   \n",
       "3     ExtraTreeClassifier  {'criterion': ['gini', 'entropy'], 'max_depth'...   \n",
       "0      LogisticRegression  {'penalty': ['l1', 'l2', 'elasticnet', 'none']...   \n",
       "\n",
       "                                         best_params       ACC  Precision  \\\n",
       "4  {'class_weight': None, 'criterion': 'entropy',...  0.972500   0.912752   \n",
       "1  {'algorithm': 'ball_tree', 'leaf_size': 20, 'n...  0.899375   0.615385   \n",
       "5  {'base_estimator': DecisionTreeClassifier(clas...  0.916250   0.562738   \n",
       "2  {'class_weight': 'balanced', 'criterion': 'gin...  0.912500   0.554217   \n",
       "3  {'class_weight': 'balanced', 'criterion': 'gin...  0.836875   0.385366   \n",
       "0  {'class_weight': 'balanced', 'max_iter': 50, '...  0.795625   0.304878   \n",
       "\n",
       "     Recall        F1       ROC   Jaccard                        model_path  \n",
       "4  0.814371  0.860759  0.902650  0.755556  model/RandomForestClassifier.pkl  \n",
       "1  0.095808  0.165803  0.544415  0.090395    model/KNeighborsClassifier.pkl  \n",
       "5  0.886228  0.688372  0.902988  0.524823       model/BaggingClassifier.pkl  \n",
       "2  0.826347  0.663462  0.874444  0.496403  model/DecisionTreeClassifier.pkl  \n",
       "3  0.946108  0.547660  0.885126  0.377088     model/ExtraTreeClassifier.pkl  \n",
       "0  0.748503  0.433276  0.774810  0.276549    model/LogisticRegression_1.pkl  "
      ]
     },
     "execution_count": 11,
     "metadata": {},
     "output_type": "execute_result"
    }
   ],
   "source": [
    "pd.read_csv('model/model_metrics/metrics.csv',sep=';').sort_values(by='Precision',ascending=False)"
   ]
  },
  {
   "cell_type": "code",
   "execution_count": null,
   "metadata": {},
   "outputs": [],
   "source": []
  }
 ],
 "metadata": {
  "kernelspec": {
   "display_name": "Python 3.9.12 ('the_bridge_ds')",
   "language": "python",
   "name": "python3"
  },
  "language_info": {
   "codemirror_mode": {
    "name": "ipython",
    "version": 3
   },
   "file_extension": ".py",
   "mimetype": "text/x-python",
   "name": "python",
   "nbconvert_exporter": "python",
   "pygments_lexer": "ipython3",
   "version": "3.9.12"
  },
  "orig_nbformat": 4,
  "vscode": {
   "interpreter": {
    "hash": "b2ad160f8c76d2a8caa3f2cdf61cc6d370c158f390a227c2374ae319d2175eaf"
   }
  }
 },
 "nbformat": 4,
 "nbformat_minor": 2
}
