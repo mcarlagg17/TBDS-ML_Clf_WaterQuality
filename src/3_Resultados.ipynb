{
 "cells": [
  {
   "cell_type": "markdown",
   "metadata": {},
   "source": [
    "# ***RESULTADOS***\n",
    "\n",
    "## *ÍNDICE:* \n",
    "---\n",
    "0. INTRODUCCIÓN\n",
    "1. ANÁLISIS EXPLORATORIO DE DATOS (EDA)\n",
    "    - 1.1. Acondicionamiento bases de datos\n",
    "    - 1.2. Análisis visual\n",
    "    - 1.3. Análisis estadístico  \n",
    "2. MACHINE LEARNING\n",
    "    - 2.1. Preparación y limpieza de datos\n",
    "    - 2.2. Feature Engineering\n",
    "    - 2.3. Modelado\n",
    "3. **RESULTADOS**\n",
    "    - [3.1. Visualización y reporting de los resultados](#31)\n",
    "    - [3.2. Creación de un pipeline para el flujo automatizado](#32)\n",
    "---"
   ]
  },
  {
   "cell_type": "code",
   "execution_count": null,
   "metadata": {},
   "outputs": [],
   "source": []
  }
 ],
 "metadata": {
  "kernelspec": {
   "display_name": "Python 3.9.12 ('the_bridge_ds')",
   "language": "python",
   "name": "python3"
  },
  "language_info": {
   "name": "python",
   "version": "3.9.12"
  },
  "orig_nbformat": 4,
  "vscode": {
   "interpreter": {
    "hash": "b2ad160f8c76d2a8caa3f2cdf61cc6d370c158f390a227c2374ae319d2175eaf"
   }
  }
 },
 "nbformat": 4,
 "nbformat_minor": 2
}
