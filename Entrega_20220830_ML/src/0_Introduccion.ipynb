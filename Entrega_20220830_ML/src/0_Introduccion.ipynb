{
 "cells": [
  {
   "cell_type": "markdown",
   "metadata": {},
   "source": [
    "# ***INTRODUCCIÓN***\n",
    "\n",
    "## *ÍNDICE:* \n",
    "---\n",
    "0. **INTRODUCCIÓN**\n",
    "1. ANÁLISIS EXPLORATORIO DE DATOS (EDA)\n",
    "    - 1.1. Acondicionamiento bases de datos\n",
    "    - 1.2. Análisis visual\n",
    "    - 1.3. Análisis estadístico   \n",
    "2. MACHINE LEARNING\n",
    "    - 2.1. Preparación y limpieza de datos\n",
    "    - 2.2. Feature Engineering\n",
    "    - 2.3. Modelado\n",
    "3. RESULTADOS\n",
    "    - 3.1. Visualización y reporting de los resultados\n",
    "    - 3.2. Creación de un pipeline para el flujo automatizado\n",
    "---"
   ]
  },
  {
   "cell_type": "markdown",
   "metadata": {},
   "source": [
    "## Estudio previo"
   ]
  },
  {
   "cell_type": "markdown",
   "metadata": {},
   "source": [
    "La calidad del agua es un término que hace referencia a un término relativo al uso para el que sea empleada:\n",
    "* Consumo humano\n",
    "* Riego\n",
    "* Uso industrial\n",
    "* etc\n",
    "\n",
    "En función del ámbito, se definen unos **límites** a partir de los cuales es segura utilizar esa agua para dicho fin.\n",
    "\n",
    "En la clasificación de los parámetros que definen la calidad del agua están los siguentes grupos: \n",
    "\n",
    "* Físicos\n",
    "* Quimicos \n",
    "* Biológicos\n",
    "\n",
    "\n",
    "<img src=\"img/parametros_agua.png\" alt=\"drawing\" width=\"450x500\"/>"
   ]
  },
  {
   "cell_type": "markdown",
   "metadata": {},
   "source": [
    "## Dataset"
   ]
  },
  {
   "cell_type": "code",
   "execution_count": 2,
   "metadata": {},
   "outputs": [
    {
     "data": {
      "text/html": [
       "<div>\n",
       "<style scoped>\n",
       "    .dataframe tbody tr th:only-of-type {\n",
       "        vertical-align: middle;\n",
       "    }\n",
       "\n",
       "    .dataframe tbody tr th {\n",
       "        vertical-align: top;\n",
       "    }\n",
       "\n",
       "    .dataframe thead th {\n",
       "        text-align: right;\n",
       "    }\n",
       "</style>\n",
       "<table border=\"1\" class=\"dataframe\">\n",
       "  <thead>\n",
       "    <tr style=\"text-align: right;\">\n",
       "      <th></th>\n",
       "      <th>Variable</th>\n",
       "      <th>description</th>\n",
       "    </tr>\n",
       "  </thead>\n",
       "  <tbody>\n",
       "    <tr>\n",
       "      <th>0</th>\n",
       "      <td>aluminium</td>\n",
       "      <td>dangerous if greater than 2.8</td>\n",
       "    </tr>\n",
       "    <tr>\n",
       "      <th>1</th>\n",
       "      <td>ammonia</td>\n",
       "      <td>dangerous if greater than 32.5</td>\n",
       "    </tr>\n",
       "    <tr>\n",
       "      <th>2</th>\n",
       "      <td>arsenic</td>\n",
       "      <td>dangerous if greater than 0.01</td>\n",
       "    </tr>\n",
       "    <tr>\n",
       "      <th>3</th>\n",
       "      <td>barium</td>\n",
       "      <td>dangerous if greater than 2</td>\n",
       "    </tr>\n",
       "    <tr>\n",
       "      <th>4</th>\n",
       "      <td>cadmium</td>\n",
       "      <td>dangerous if greater than 0.005</td>\n",
       "    </tr>\n",
       "    <tr>\n",
       "      <th>5</th>\n",
       "      <td>chloramine</td>\n",
       "      <td>dangerous if greater than 4</td>\n",
       "    </tr>\n",
       "    <tr>\n",
       "      <th>6</th>\n",
       "      <td>chromium</td>\n",
       "      <td>dangerous if greater than 0.1</td>\n",
       "    </tr>\n",
       "    <tr>\n",
       "      <th>7</th>\n",
       "      <td>copper</td>\n",
       "      <td>dangerous if greater than 1.3</td>\n",
       "    </tr>\n",
       "    <tr>\n",
       "      <th>8</th>\n",
       "      <td>flouride</td>\n",
       "      <td>dangerous if greater than 1.5</td>\n",
       "    </tr>\n",
       "    <tr>\n",
       "      <th>9</th>\n",
       "      <td>bacteria</td>\n",
       "      <td>dangerous if greater than 0</td>\n",
       "    </tr>\n",
       "    <tr>\n",
       "      <th>10</th>\n",
       "      <td>viruses</td>\n",
       "      <td>dangerous if greater than 0</td>\n",
       "    </tr>\n",
       "    <tr>\n",
       "      <th>11</th>\n",
       "      <td>lead</td>\n",
       "      <td>dangerous if greater than 0.015</td>\n",
       "    </tr>\n",
       "    <tr>\n",
       "      <th>12</th>\n",
       "      <td>nitrates</td>\n",
       "      <td>dangerous if greater than 10</td>\n",
       "    </tr>\n",
       "    <tr>\n",
       "      <th>13</th>\n",
       "      <td>nitrites</td>\n",
       "      <td>dangerous if greater than 1</td>\n",
       "    </tr>\n",
       "    <tr>\n",
       "      <th>14</th>\n",
       "      <td>mercury</td>\n",
       "      <td>dangerous if greater than 0.002</td>\n",
       "    </tr>\n",
       "    <tr>\n",
       "      <th>15</th>\n",
       "      <td>perchlorate</td>\n",
       "      <td>dangerous if greater than 56</td>\n",
       "    </tr>\n",
       "    <tr>\n",
       "      <th>16</th>\n",
       "      <td>radium</td>\n",
       "      <td>dangerous if greater than 5</td>\n",
       "    </tr>\n",
       "    <tr>\n",
       "      <th>17</th>\n",
       "      <td>selenium</td>\n",
       "      <td>dangerous if greater than 0.5</td>\n",
       "    </tr>\n",
       "    <tr>\n",
       "      <th>18</th>\n",
       "      <td>silver</td>\n",
       "      <td>dangerous if greater than 0.1</td>\n",
       "    </tr>\n",
       "    <tr>\n",
       "      <th>19</th>\n",
       "      <td>uranium</td>\n",
       "      <td>dangerous if greater than 0.3</td>\n",
       "    </tr>\n",
       "    <tr>\n",
       "      <th>20</th>\n",
       "      <td>is_safe</td>\n",
       "      <td>class attribute {0 - not safe, 1 - safe}</td>\n",
       "    </tr>\n",
       "  </tbody>\n",
       "</table>\n",
       "</div>"
      ],
      "text/plain": [
       "       Variable                               description\n",
       "0     aluminium             dangerous if greater than 2.8\n",
       "1       ammonia            dangerous if greater than 32.5\n",
       "2       arsenic            dangerous if greater than 0.01\n",
       "3        barium               dangerous if greater than 2\n",
       "4       cadmium           dangerous if greater than 0.005\n",
       "5    chloramine               dangerous if greater than 4\n",
       "6      chromium             dangerous if greater than 0.1\n",
       "7        copper             dangerous if greater than 1.3\n",
       "8      flouride             dangerous if greater than 1.5\n",
       "9      bacteria               dangerous if greater than 0\n",
       "10      viruses               dangerous if greater than 0\n",
       "11         lead           dangerous if greater than 0.015\n",
       "12     nitrates              dangerous if greater than 10\n",
       "13     nitrites               dangerous if greater than 1\n",
       "14      mercury           dangerous if greater than 0.002\n",
       "15  perchlorate              dangerous if greater than 56\n",
       "16       radium               dangerous if greater than 5\n",
       "17     selenium             dangerous if greater than 0.5\n",
       "18       silver             dangerous if greater than 0.1\n",
       "19      uranium             dangerous if greater than 0.3\n",
       "20      is_safe  class attribute {0 - not safe, 1 - safe}"
      ]
     },
     "execution_count": 2,
     "metadata": {},
     "output_type": "execute_result"
    }
   ],
   "source": [
    "import pandas as pd\n",
    "pd.read_csv('data/raw/description.csv', sep=';')"
   ]
  },
  {
   "cell_type": "markdown",
   "metadata": {},
   "source": [
    "También existe una serie de indicadores que se utilizan para medir si es segura y en qué medida: \n",
    "\n",
    "[Ver índices de calidad del agua](http://www.scielo.org.co/scielo.php?script=sci_arttext&pid=S1692-33242009000300009)\n"
   ]
  },
  {
   "cell_type": "markdown",
   "metadata": {},
   "source": [
    "## Definición del problema y solución\n",
    "\n",
    "Se trata de un problema de ***clasificación***, cuyo objetivo es detectar, dadas las variables anteriores, si se trata de un `agua segura o no` para su uso. \n",
    "\n",
    "Se aplican distintos estimadores y tratamientos de los datos para hallar el que mejor se ajuste, optimizando las métricas. \n",
    "\n",
    "La métrica a priorizar es la ***precisión***.\n",
    "\n"
   ]
  },
  {
   "cell_type": "markdown",
   "metadata": {},
   "source": [
    "<a href='1_EDA.ipynb'>Ver siguiente notebook</a>"
   ]
  },
  {
   "cell_type": "markdown",
   "metadata": {},
   "source": []
  }
 ],
 "metadata": {
  "kernelspec": {
   "display_name": "Python 3.9.12 ('the_bridge_ds')",
   "language": "python",
   "name": "python3"
  },
  "language_info": {
   "codemirror_mode": {
    "name": "ipython",
    "version": 3
   },
   "file_extension": ".py",
   "mimetype": "text/x-python",
   "name": "python",
   "nbconvert_exporter": "python",
   "pygments_lexer": "ipython3",
   "version": "3.9.12"
  },
  "orig_nbformat": 4,
  "vscode": {
   "interpreter": {
    "hash": "b2ad160f8c76d2a8caa3f2cdf61cc6d370c158f390a227c2374ae319d2175eaf"
   }
  }
 },
 "nbformat": 4,
 "nbformat_minor": 2
}
