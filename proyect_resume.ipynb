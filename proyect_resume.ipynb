{
 "cells": [
  {
   "cell_type": "markdown",
   "metadata": {},
   "source": [
    "# **Predicción CALIDAD del AGUA**\n",
    "![img](src/img/water.jpg)\n",
    "## *ÍNDICE:* \n",
    "---\n",
    "- [ 0. INTRODUCCIÓN](#0)\n",
    "- [ 1. ANÁLISIS EXPLORATORIO DE DATOS (EDA):](#1)\n",
    "    - [1.1. Acondicionamiento bases de datos](#12)\n",
    "    - [1.2. Análisis visual](#13)\n",
    "    - [1.3. Análisis estadístico](#14)   \n",
    "- [ 2. MACHINE LEARNING](#2)\n",
    "    - [2.1. Preparación y limpieza de datos](#21)\n",
    "    - [2.2. Feature Engineering](#22)\n",
    "    - [2.3. Modelado](#23)\n",
    "- [ 3. CONCLUSIÓN](#3)\n",
    "    - [3.1. Visualización y reporting de los resultados](#31)\n",
    "    - [3.2. Creación de un pipeline para el flujo automatizado](#32)\n",
    "---\n",
    "### *Contacto:*\n",
    "___\n",
    "* Email: ***carla.glezz@gmail.com***\n",
    "* Linkedin: ***https://www.linkedin.com/in/mariacarlagonzalezgonzalez/***\n",
    "---\n",
    "---\n"
   ]
  },
  {
   "cell_type": "markdown",
   "metadata": {},
   "source": [
    "# **0. Introducción**<a id='0'></a>"
   ]
  },
  {
   "cell_type": "code",
   "execution_count": null,
   "metadata": {},
   "outputs": [],
   "source": [
    "import pandas as pd\n",
    "import os "
   ]
  },
  {
   "cell_type": "markdown",
   "metadata": {},
   "source": [
    "\n",
    "Se realiza la introducción en el archivo: <a href='src/0_Introduccion.ipynb'>Intro</a>"
   ]
  },
  {
   "cell_type": "markdown",
   "metadata": {},
   "source": [
    "# **1. Análisis exploratorio de datos**<a id='1'></a>"
   ]
  },
  {
   "cell_type": "markdown",
   "metadata": {},
   "source": [
    "Se realiza un análisis exploratorio de los datos en el archivo: <a href='src/1_EDA.ipynb'>EDA</a>"
   ]
  },
  {
   "cell_type": "markdown",
   "metadata": {},
   "source": [
    "# **2. Machine Learning**<a id='2'></a>"
   ]
  },
  {
   "cell_type": "markdown",
   "metadata": {},
   "source": [
    "Se obtiene la comparativa de las métricas en: <a href='src/model/model_metrics/metrics.csv'>metrics.csv</a>"
   ]
  },
  {
   "cell_type": "code",
   "execution_count": 2,
   "metadata": {},
   "outputs": [
    {
     "data": {
      "text/html": [
       "<div>\n",
       "<style scoped>\n",
       "    .dataframe tbody tr th:only-of-type {\n",
       "        vertical-align: middle;\n",
       "    }\n",
       "\n",
       "    .dataframe tbody tr th {\n",
       "        vertical-align: top;\n",
       "    }\n",
       "\n",
       "    .dataframe thead th {\n",
       "        text-align: right;\n",
       "    }\n",
       "</style>\n",
       "<table border=\"1\" class=\"dataframe\">\n",
       "  <thead>\n",
       "    <tr style=\"text-align: right;\">\n",
       "      <th></th>\n",
       "      <th>model</th>\n",
       "      <th>ACC</th>\n",
       "      <th>Precision</th>\n",
       "      <th>Recall</th>\n",
       "      <th>F1</th>\n",
       "      <th>ROC</th>\n",
       "    </tr>\n",
       "  </thead>\n",
       "  <tbody>\n",
       "    <tr>\n",
       "      <th>0</th>\n",
       "      <td>LogisticRegression()</td>\n",
       "      <td>0.908750</td>\n",
       "      <td>0.632911</td>\n",
       "      <td>0.299401</td>\n",
       "      <td>0.406504</td>\n",
       "      <td>0.639582</td>\n",
       "    </tr>\n",
       "    <tr>\n",
       "      <th>1</th>\n",
       "      <td>KNeighborsClassifier()</td>\n",
       "      <td>0.889375</td>\n",
       "      <td>0.419355</td>\n",
       "      <td>0.155689</td>\n",
       "      <td>0.227074</td>\n",
       "      <td>0.565283</td>\n",
       "    </tr>\n",
       "    <tr>\n",
       "      <th>2</th>\n",
       "      <td>DecisionTreeClassifier()</td>\n",
       "      <td>0.956250</td>\n",
       "      <td>0.774011</td>\n",
       "      <td>0.820359</td>\n",
       "      <td>0.796512</td>\n",
       "      <td>0.896223</td>\n",
       "    </tr>\n",
       "    <tr>\n",
       "      <th>3</th>\n",
       "      <td>ExtraTreeClassifier()</td>\n",
       "      <td>0.867500</td>\n",
       "      <td>0.375691</td>\n",
       "      <td>0.407186</td>\n",
       "      <td>0.390805</td>\n",
       "      <td>0.664165</td>\n",
       "    </tr>\n",
       "    <tr>\n",
       "      <th>4</th>\n",
       "      <td>RandomForestClassifier()</td>\n",
       "      <td>0.960000</td>\n",
       "      <td>0.887218</td>\n",
       "      <td>0.706587</td>\n",
       "      <td>0.786667</td>\n",
       "      <td>0.848060</td>\n",
       "    </tr>\n",
       "    <tr>\n",
       "      <th>5</th>\n",
       "      <td>BaggingClassifier()</td>\n",
       "      <td>0.967500</td>\n",
       "      <td>0.907801</td>\n",
       "      <td>0.766467</td>\n",
       "      <td>0.831169</td>\n",
       "      <td>0.878698</td>\n",
       "    </tr>\n",
       "    <tr>\n",
       "      <th>6</th>\n",
       "      <td>AdaBoostClassifier()</td>\n",
       "      <td>0.942500</td>\n",
       "      <td>0.804878</td>\n",
       "      <td>0.592814</td>\n",
       "      <td>0.682759</td>\n",
       "      <td>0.788033</td>\n",
       "    </tr>\n",
       "    <tr>\n",
       "      <th>7</th>\n",
       "      <td>GradientBoostingClassifier()</td>\n",
       "      <td>0.965000</td>\n",
       "      <td>0.888112</td>\n",
       "      <td>0.760479</td>\n",
       "      <td>0.819355</td>\n",
       "      <td>0.874657</td>\n",
       "    </tr>\n",
       "    <tr>\n",
       "      <th>8</th>\n",
       "      <td>SVC()</td>\n",
       "      <td>0.895625</td>\n",
       "      <td>0.000000</td>\n",
       "      <td>0.000000</td>\n",
       "      <td>0.000000</td>\n",
       "      <td>0.500000</td>\n",
       "    </tr>\n",
       "    <tr>\n",
       "      <th>9</th>\n",
       "      <td>XGBClassifier()</td>\n",
       "      <td>0.973750</td>\n",
       "      <td>0.903226</td>\n",
       "      <td>0.838323</td>\n",
       "      <td>0.869565</td>\n",
       "      <td>0.913928</td>\n",
       "    </tr>\n",
       "    <tr>\n",
       "      <th>10</th>\n",
       "      <td>VotingClassifier(estimators=[('RFC', RandomFor...</td>\n",
       "      <td>0.960625</td>\n",
       "      <td>0.888060</td>\n",
       "      <td>0.712575</td>\n",
       "      <td>0.790698</td>\n",
       "      <td>0.851054</td>\n",
       "    </tr>\n",
       "    <tr>\n",
       "      <th>11</th>\n",
       "      <td>LinearDiscriminantAnalysis()</td>\n",
       "      <td>0.903125</td>\n",
       "      <td>0.546154</td>\n",
       "      <td>0.425150</td>\n",
       "      <td>0.478114</td>\n",
       "      <td>0.691989</td>\n",
       "    </tr>\n",
       "  </tbody>\n",
       "</table>\n",
       "</div>"
      ],
      "text/plain": [
       "                                                model       ACC  Precision  \\\n",
       "0                                LogisticRegression()  0.908750   0.632911   \n",
       "1                              KNeighborsClassifier()  0.889375   0.419355   \n",
       "2                            DecisionTreeClassifier()  0.956250   0.774011   \n",
       "3                               ExtraTreeClassifier()  0.867500   0.375691   \n",
       "4                            RandomForestClassifier()  0.960000   0.887218   \n",
       "5                                 BaggingClassifier()  0.967500   0.907801   \n",
       "6                                AdaBoostClassifier()  0.942500   0.804878   \n",
       "7                        GradientBoostingClassifier()  0.965000   0.888112   \n",
       "8                                               SVC()  0.895625   0.000000   \n",
       "9                                     XGBClassifier()  0.973750   0.903226   \n",
       "10  VotingClassifier(estimators=[('RFC', RandomFor...  0.960625   0.888060   \n",
       "11                       LinearDiscriminantAnalysis()  0.903125   0.546154   \n",
       "\n",
       "      Recall        F1       ROC  \n",
       "0   0.299401  0.406504  0.639582  \n",
       "1   0.155689  0.227074  0.565283  \n",
       "2   0.820359  0.796512  0.896223  \n",
       "3   0.407186  0.390805  0.664165  \n",
       "4   0.706587  0.786667  0.848060  \n",
       "5   0.766467  0.831169  0.878698  \n",
       "6   0.592814  0.682759  0.788033  \n",
       "7   0.760479  0.819355  0.874657  \n",
       "8   0.000000  0.000000  0.500000  \n",
       "9   0.838323  0.869565  0.913928  \n",
       "10  0.712575  0.790698  0.851054  \n",
       "11  0.425150  0.478114  0.691989  "
      ]
     },
     "execution_count": 2,
     "metadata": {},
     "output_type": "execute_result"
    }
   ],
   "source": [
    "pd.read_csv(os.getcwd()+'/src/model/model_metrics/metrics.csv',sep=';')"
   ]
  },
  {
   "cell_type": "markdown",
   "metadata": {},
   "source": [
    "# **3. Conclusiones**<a id='3'></a>"
   ]
  }
 ],
 "metadata": {
  "kernelspec": {
   "display_name": "Python 3.9.12 ('the_bridge_ds')",
   "language": "python",
   "name": "python3"
  },
  "language_info": {
   "codemirror_mode": {
    "name": "ipython",
    "version": 3
   },
   "file_extension": ".py",
   "mimetype": "text/x-python",
   "name": "python",
   "nbconvert_exporter": "python",
   "pygments_lexer": "ipython3",
   "version": "3.9.12"
  },
  "orig_nbformat": 4,
  "vscode": {
   "interpreter": {
    "hash": "b2ad160f8c76d2a8caa3f2cdf61cc6d370c158f390a227c2374ae319d2175eaf"
   }
  }
 },
 "nbformat": 4,
 "nbformat_minor": 2
}
