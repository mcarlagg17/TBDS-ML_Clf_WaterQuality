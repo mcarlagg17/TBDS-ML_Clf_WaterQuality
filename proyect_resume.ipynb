{
 "cells": [
  {
   "cell_type": "markdown",
   "metadata": {},
   "source": [
    "# **Predicción CALIDAD del AGUA**\n",
    "![img](src/img/water.jpg)\n",
    "## *ÍNDICE:* \n",
    "---\n",
    "- [ 0. INTRODUCCIÓN](#0)\n",
    "- [ 1. ANÁLISIS EXPLORATORIO DE DATOS (EDA):](#1)\n",
    "    - [1.1. Acondicionamiento bases de datos](#12)\n",
    "    - [1.2. Análisis visual](#13)\n",
    "    - [1.3. Análisis estadístico](#14)   \n",
    "- [ 2. MACHINE LEARNING](#2)\n",
    "    - [2.1. Preparación y limpieza de datos](#21)\n",
    "    - [2.2. Feature Engineering](#22)\n",
    "    - [2.3. Modelado](#23)\n",
    "- [ 3. RESULTADOS](#3)\n",
    "    - [3.1. Visualización y reporting de los resultados](#31)\n",
    "    - [3.2. Creación de un pipeline para el flujo automatizado](#32)\n",
    "---\n",
    "### *Contacto:*\n",
    "___\n",
    "* Email: ***carla.glezz@gmail.com***\n",
    "* Linkedin: ***https://www.linkedin.com/in/mariacarlagonzalezgonzalez/***\n",
    "---\n",
    "---\n"
   ]
  },
  {
   "cell_type": "markdown",
   "metadata": {},
   "source": [
    "# **0. Introducción**<a id='0'></a>"
   ]
  },
  {
   "cell_type": "code",
   "execution_count": null,
   "metadata": {},
   "outputs": [],
   "source": [
    "import pandas as pd\n",
    "import os "
   ]
  },
  {
   "cell_type": "markdown",
   "metadata": {},
   "source": [
    "\n",
    "Se realiza la introducción en el archivo: <a href='src/0_Introduccion.ipynb'>Intro</a>"
   ]
  },
  {
   "cell_type": "markdown",
   "metadata": {},
   "source": [
    "# **1. Análisis exploratorio de datos**<a id='1'></a>"
   ]
  },
  {
   "cell_type": "markdown",
   "metadata": {},
   "source": [
    "Se realiza un análisis exploratorio de los datos en el archivo: <a href='src/1_EDA.ipynb'>EDA</a>"
   ]
  },
  {
   "cell_type": "markdown",
   "metadata": {},
   "source": [
    "# **2. Machine Learning**<a id='2'></a>"
   ]
  },
  {
   "cell_type": "markdown",
   "metadata": {},
   "source": [
    "Se obtiene la comparativa de las métricas en: <a href='src/model/model_metrics/baseline_metrics.csv'>baseline_metrics.csv</a>"
   ]
  },
  {
   "cell_type": "code",
   "execution_count": 6,
   "metadata": {},
   "outputs": [
    {
     "data": {
      "text/html": [
       "<div>\n",
       "<style scoped>\n",
       "    .dataframe tbody tr th:only-of-type {\n",
       "        vertical-align: middle;\n",
       "    }\n",
       "\n",
       "    .dataframe tbody tr th {\n",
       "        vertical-align: top;\n",
       "    }\n",
       "\n",
       "    .dataframe thead th {\n",
       "        text-align: right;\n",
       "    }\n",
       "</style>\n",
       "<table border=\"1\" class=\"dataframe\">\n",
       "  <thead>\n",
       "    <tr style=\"text-align: right;\">\n",
       "      <th></th>\n",
       "      <th>model</th>\n",
       "      <th>ACC</th>\n",
       "      <th>Precision</th>\n",
       "      <th>Recall</th>\n",
       "      <th>F1</th>\n",
       "      <th>ROC</th>\n",
       "      <th>Jaccard</th>\n",
       "    </tr>\n",
       "  </thead>\n",
       "  <tbody>\n",
       "    <tr>\n",
       "      <th>5</th>\n",
       "      <td>BaggingClassifier</td>\n",
       "      <td>0.968750</td>\n",
       "      <td>0.909091</td>\n",
       "      <td>0.778443</td>\n",
       "      <td>0.838710</td>\n",
       "      <td>0.884686</td>\n",
       "      <td>0.722222</td>\n",
       "    </tr>\n",
       "    <tr>\n",
       "      <th>9</th>\n",
       "      <td>XGBClassifier</td>\n",
       "      <td>0.973750</td>\n",
       "      <td>0.903226</td>\n",
       "      <td>0.838323</td>\n",
       "      <td>0.869565</td>\n",
       "      <td>0.913928</td>\n",
       "      <td>0.769231</td>\n",
       "    </tr>\n",
       "    <tr>\n",
       "      <th>4</th>\n",
       "      <td>RandomForestClassifier</td>\n",
       "      <td>0.961250</td>\n",
       "      <td>0.894737</td>\n",
       "      <td>0.712575</td>\n",
       "      <td>0.793333</td>\n",
       "      <td>0.851403</td>\n",
       "      <td>0.657459</td>\n",
       "    </tr>\n",
       "    <tr>\n",
       "      <th>7</th>\n",
       "      <td>GradientBoostingClassifier</td>\n",
       "      <td>0.965000</td>\n",
       "      <td>0.888112</td>\n",
       "      <td>0.760479</td>\n",
       "      <td>0.819355</td>\n",
       "      <td>0.874657</td>\n",
       "      <td>0.693989</td>\n",
       "    </tr>\n",
       "    <tr>\n",
       "      <th>10</th>\n",
       "      <td>VotingClassifier</td>\n",
       "      <td>0.957500</td>\n",
       "      <td>0.877863</td>\n",
       "      <td>0.688623</td>\n",
       "      <td>0.771812</td>\n",
       "      <td>0.838729</td>\n",
       "      <td>0.628415</td>\n",
       "    </tr>\n",
       "    <tr>\n",
       "      <th>6</th>\n",
       "      <td>AdaBoostClassifier</td>\n",
       "      <td>0.942500</td>\n",
       "      <td>0.804878</td>\n",
       "      <td>0.592814</td>\n",
       "      <td>0.682759</td>\n",
       "      <td>0.788033</td>\n",
       "      <td>0.518325</td>\n",
       "    </tr>\n",
       "    <tr>\n",
       "      <th>2</th>\n",
       "      <td>DecisionTreeClassifier</td>\n",
       "      <td>0.959375</td>\n",
       "      <td>0.786517</td>\n",
       "      <td>0.838323</td>\n",
       "      <td>0.811594</td>\n",
       "      <td>0.905903</td>\n",
       "      <td>0.682927</td>\n",
       "    </tr>\n",
       "    <tr>\n",
       "      <th>0</th>\n",
       "      <td>LogisticRegression</td>\n",
       "      <td>0.908750</td>\n",
       "      <td>0.632911</td>\n",
       "      <td>0.299401</td>\n",
       "      <td>0.406504</td>\n",
       "      <td>0.639582</td>\n",
       "      <td>0.255102</td>\n",
       "    </tr>\n",
       "    <tr>\n",
       "      <th>11</th>\n",
       "      <td>LinearDiscriminantAnalysis</td>\n",
       "      <td>0.903125</td>\n",
       "      <td>0.546154</td>\n",
       "      <td>0.425150</td>\n",
       "      <td>0.478114</td>\n",
       "      <td>0.691989</td>\n",
       "      <td>0.314159</td>\n",
       "    </tr>\n",
       "    <tr>\n",
       "      <th>3</th>\n",
       "      <td>ExtraTreeClassifier</td>\n",
       "      <td>0.897500</td>\n",
       "      <td>0.508571</td>\n",
       "      <td>0.532934</td>\n",
       "      <td>0.520468</td>\n",
       "      <td>0.736460</td>\n",
       "      <td>0.351779</td>\n",
       "    </tr>\n",
       "    <tr>\n",
       "      <th>1</th>\n",
       "      <td>KNeighborsClassifier</td>\n",
       "      <td>0.889375</td>\n",
       "      <td>0.419355</td>\n",
       "      <td>0.155689</td>\n",
       "      <td>0.227074</td>\n",
       "      <td>0.565283</td>\n",
       "      <td>0.128079</td>\n",
       "    </tr>\n",
       "    <tr>\n",
       "      <th>8</th>\n",
       "      <td>SVC</td>\n",
       "      <td>0.895625</td>\n",
       "      <td>0.000000</td>\n",
       "      <td>0.000000</td>\n",
       "      <td>0.000000</td>\n",
       "      <td>0.500000</td>\n",
       "      <td>0.000000</td>\n",
       "    </tr>\n",
       "  </tbody>\n",
       "</table>\n",
       "</div>"
      ],
      "text/plain": [
       "                         model       ACC  Precision    Recall        F1  \\\n",
       "5            BaggingClassifier  0.968750   0.909091  0.778443  0.838710   \n",
       "9                XGBClassifier  0.973750   0.903226  0.838323  0.869565   \n",
       "4       RandomForestClassifier  0.961250   0.894737  0.712575  0.793333   \n",
       "7   GradientBoostingClassifier  0.965000   0.888112  0.760479  0.819355   \n",
       "10            VotingClassifier  0.957500   0.877863  0.688623  0.771812   \n",
       "6           AdaBoostClassifier  0.942500   0.804878  0.592814  0.682759   \n",
       "2       DecisionTreeClassifier  0.959375   0.786517  0.838323  0.811594   \n",
       "0           LogisticRegression  0.908750   0.632911  0.299401  0.406504   \n",
       "11  LinearDiscriminantAnalysis  0.903125   0.546154  0.425150  0.478114   \n",
       "3          ExtraTreeClassifier  0.897500   0.508571  0.532934  0.520468   \n",
       "1         KNeighborsClassifier  0.889375   0.419355  0.155689  0.227074   \n",
       "8                          SVC  0.895625   0.000000  0.000000  0.000000   \n",
       "\n",
       "         ROC   Jaccard  \n",
       "5   0.884686  0.722222  \n",
       "9   0.913928  0.769231  \n",
       "4   0.851403  0.657459  \n",
       "7   0.874657  0.693989  \n",
       "10  0.838729  0.628415  \n",
       "6   0.788033  0.518325  \n",
       "2   0.905903  0.682927  \n",
       "0   0.639582  0.255102  \n",
       "11  0.691989  0.314159  \n",
       "3   0.736460  0.351779  \n",
       "1   0.565283  0.128079  \n",
       "8   0.500000  0.000000  "
      ]
     },
     "execution_count": 6,
     "metadata": {},
     "output_type": "execute_result"
    }
   ],
   "source": [
    "pd.read_csv(os.getcwd()+'/src/model/model_metrics/baseline_metrics.csv',sep=';').sort_values('Precision',ascending=False)"
   ]
  },
  {
   "cell_type": "markdown",
   "metadata": {},
   "source": [
    "# **3. Resultados y conclusiones**<a id='3'></a>"
   ]
  },
  {
   "cell_type": "markdown",
   "metadata": {},
   "source": []
  }
 ],
 "metadata": {
  "kernelspec": {
   "display_name": "Python 3.9.12 ('the_bridge_ds')",
   "language": "python",
   "name": "python3"
  },
  "language_info": {
   "codemirror_mode": {
    "name": "ipython",
    "version": 3
   },
   "file_extension": ".py",
   "mimetype": "text/x-python",
   "name": "python",
   "nbconvert_exporter": "python",
   "pygments_lexer": "ipython3",
   "version": "3.9.12"
  },
  "orig_nbformat": 4,
  "vscode": {
   "interpreter": {
    "hash": "b2ad160f8c76d2a8caa3f2cdf61cc6d370c158f390a227c2374ae319d2175eaf"
   }
  }
 },
 "nbformat": 4,
 "nbformat_minor": 2
}
