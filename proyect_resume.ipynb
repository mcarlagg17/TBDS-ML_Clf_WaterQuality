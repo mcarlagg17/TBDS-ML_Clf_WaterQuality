{
 "cells": [
  {
   "cell_type": "code",
   "execution_count": null,
   "metadata": {},
   "outputs": [],
   "source": []
  },
  {
   "cell_type": "markdown",
   "metadata": {},
   "source": [
    "* Crear el recorrido por el proyecto: descripción de las partes y lo que se obtiene en cada  notebook\n",
    "* Añadir enlace a dicho notebook \n",
    "* Los archivos y conclusiones principales extraidas en cada uno"
   ]
  },
  {
   "cell_type": "markdown",
   "metadata": {},
   "source": []
  }
 ],
 "metadata": {
  "kernelspec": {
   "display_name": "Python 3.9.12 ('the_bridge_ds')",
   "language": "python",
   "name": "python3"
  },
  "language_info": {
   "name": "python",
   "version": "3.9.12"
  },
  "orig_nbformat": 4,
  "vscode": {
   "interpreter": {
    "hash": "b2ad160f8c76d2a8caa3f2cdf61cc6d370c158f390a227c2374ae319d2175eaf"
   }
  }
 },
 "nbformat": 4,
 "nbformat_minor": 2
}
